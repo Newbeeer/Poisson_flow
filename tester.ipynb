{
 "cells": [
  {
   "cell_type": "code",
   "execution_count": 1,
   "metadata": {},
   "outputs": [],
   "source": [
    "from datasets import get_dataset\n",
    "import matplotlib.pyplot as plt\n",
    "from tqdm import tqdm\n",
    "import numpy as np\n",
    "import time\n",
    "from configs.get_configs import get_config\n",
    "\n",
    "\n",
    "class DotDict(dict):\n",
    "    def __getattr__(self, key):\n",
    "        return self[key]\n",
    "    def __setattr__(self, key, val):\n",
    "        if key in self.__dict__:\n",
    "            self.__dict__[key] = val\n",
    "        else:\n",
    "            self[key] = val"
   ]
  },
  {
   "cell_type": "code",
   "execution_count": 2,
   "metadata": {},
   "outputs": [
    {
     "data": {
      "text/plain": [
       "1"
      ]
     },
     "execution_count": 2,
     "metadata": {},
     "output_type": "execute_result"
    }
   ],
   "source": [
    "import torch\n",
    "from run_lib import evaluate\n",
    "torch.cuda.device_count()"
   ]
  },
  {
   "cell_type": "code",
   "execution_count": 3,
   "metadata": {},
   "outputs": [
    {
     "data": {
      "text/plain": [
       "0"
      ]
     },
     "execution_count": 3,
     "metadata": {},
     "output_type": "execute_result"
    }
   ],
   "source": [
    "import torch\n",
    "import gc\n",
    "torch.cuda.empty_cache()\n",
    "gc.collect()"
   ]
  },
  {
   "cell_type": "code",
   "execution_count": 4,
   "metadata": {},
   "outputs": [],
   "source": [
    "%%capture\n",
    "args = DotDict()\n",
    "args.conf = \"128_deep\"\n",
    "args.test = False\n",
    "args.DDP = False\n",
    "args.workdir = \"pfgm_128_deep_v2\"\n",
    "args.eval_folder = \"eval\"\n",
    "args.sampling = True\n",
    "config = get_config(args)\n",
    "args.config = config\n",
    "#args.config.sampling.ode_solver = 'torchdiffeq'\n",
    "args.config.sampling.ode_solver = 'improved_euler' # rk45, improved_euler\n",
    "args.config.sampling.ckpt_number = 500000\n",
    "args.config.sampling.N = 200\n",
    "args.config.sampling.z_max = 50\n",
    "args.config.eval.num_samples = 32\n",
    "args.config.eval.batch_size = 32"
   ]
  },
  {
   "cell_type": "markdown",
   "metadata": {},
   "source": [
    "## Libs for Sampling"
   ]
  },
  {
   "cell_type": "code",
   "execution_count": 5,
   "metadata": {},
   "outputs": [],
   "source": [
    "import os\n",
    "import time\n",
    "import copy\n",
    "import logging\n",
    "import numpy as np\n",
    "# Keep the import below for registering all model definitions\n",
    "from models import ncsnpp_audio, stablediff, diffwave\n",
    "import losses\n",
    "import sampling\n",
    "from models import utils as mutils\n",
    "from models.ema import ExponentialMovingAverage\n",
    "import datasets\n",
    "import methods\n",
    "import torch\n",
    "from torchvision.utils import make_grid, save_image\n",
    "from utils import save_checkpoint, restore_checkpoint\n",
    "import wandb\n",
    "import torch.distributed as dist\n",
    "import gc\n",
    "import torchaudio "
   ]
  },
  {
   "cell_type": "code",
   "execution_count": 6,
   "metadata": {},
   "outputs": [
    {
     "name": "stdout",
     "output_type": "stream",
     "text": [
      "BUILDING MODEL...\n",
      "MODEL BUILT!\n",
      "Created Model\n",
      "--- sampling eps: 0.001\n",
      "Loading from  pfgm_128_deep_v2/checkpoints/checkpoint_500000.pth\n",
      "State Loaded\n",
      "DONE!\n"
     ]
    }
   ],
   "source": [
    "config = args.config\n",
    "workdir = args.workdir\n",
    "eval_folder = args.eval_folder\n",
    "eval_dir = os.path.join(workdir, eval_folder)\n",
    "os.makedirs(eval_dir, exist_ok=True)\n",
    "\n",
    "# setup logger\n",
    "gfile_stream = open(os.path.join(args.workdir, 'stdout_eval.txt'), 'w')\n",
    "handler = logging.StreamHandler(gfile_stream)\n",
    "formatter = logging.Formatter('%(levelname)s - %(filename)s - %(asctime)s - %(message)s')\n",
    "handler.setFormatter(formatter)\n",
    "logger = logging.getLogger()\n",
    "logger.addHandler(handler)\n",
    "logger.setLevel('INFO')\n",
    "\n",
    "# Build data pipeline\n",
    "if config.eval.enable_loss:\n",
    "    train_ds, eval_ds, _ = datasets.get_dataset(args, evaluation=True)\n",
    "\n",
    "# Create data normalizer and its inverse\n",
    "scaler = datasets.get_data_scaler(config)\n",
    "inverse_scaler = datasets.get_data_inverse_scaler(config)\n",
    "\n",
    "# Initialize model\n",
    "net = mutils.create_model(args)\n",
    "print(\"Created Model\")\n",
    "optimizer, scheduler = losses.get_optimizer(config, net.parameters())\n",
    "ema = ExponentialMovingAverage(net.parameters(), decay=config.model.ema_rate)\n",
    "state = dict(optimizer=optimizer, model=net, ema=ema, scheduler=scheduler, step=0)\n",
    "\n",
    "checkpoint_dir = os.path.join(workdir, \"checkpoints\")\n",
    "\n",
    "torch.cuda.empty_cache()\n",
    "gc.collect()\n",
    "\n",
    "# Setup methods\n",
    "if config.training.sde.lower() == 'poisson':\n",
    "    sde = methods.Poisson(args=args)\n",
    "    sampling_eps = config.sampling.z_min\n",
    "    print(\"--- sampling eps:\", sampling_eps)\n",
    "else:\n",
    "    raise NotImplementedError(f\"Method {config.training.sde} unknown.\")\n",
    "\n",
    "\n",
    "# Wait if the target checkpoint doesn't exist yet\n",
    "torch.manual_seed(config.seed)\n",
    "np.random.seed(config.seed)\n",
    "\n",
    "if torch.cuda.is_available():\n",
    "    torch.cuda.manual_seed_all(config.seed)\n",
    "\n",
    "if config.training.sde == 'poisson':\n",
    "    if config.sampling.ckpt_number > 0:\n",
    "        ckpt_filename = os.path.join(checkpoint_dir, \"checkpoint_{}.pth\".format(config.sampling.ckpt_number))\n",
    "        ckpt_path = os.path.join(checkpoint_dir, f'checkpoint_{config.sampling.ckpt_number}.pth')\n",
    "    else:\n",
    "        raise ValueError(\"Please provide a ckpt_number!\")\n",
    "\n",
    "if not os.path.exists(ckpt_filename):\n",
    "    print(f\"{ckpt_filename} does not exist! Loading from meta-checkpoint\")\n",
    "    ckpt_filename = os.path.join(checkpoint_dir, os.pardir, 'checkpoints-meta', 'checkpoint.pth')\n",
    "    if not os.path.exists(ckpt_filename):\n",
    "        print(\"No checkpoints-meta\")\n",
    "\n",
    "# Wait for 2 additional mins in case the file exists but is not ready for reading\n",
    "print(\"Loading from \", ckpt_path)\n",
    "try:\n",
    "    state = restore_checkpoint(ckpt_path, state, map_location=config.device)\n",
    "    print(\"State Loaded\")\n",
    "except Exception as e:\n",
    "    print(\"Loading Failed!\")\n",
    "    print(e)\n",
    "    time.sleep(60)\n",
    "    try:\n",
    "        state = restore_checkpoint(ckpt_path, state, map_location=config.device)\n",
    "    except Exception as e:\n",
    "        time.sleep(120)\n",
    "        state = restore_checkpoint(ckpt_path, state, map_location=config.device)\n",
    "\n",
    "        \n",
    "ckpt = config.sampling.ckpt_number\n",
    "ema.copy_to(net.parameters())\n",
    "\n",
    "# Build the sampling function when sampling is enabled\n",
    "if config.eval.enable_sampling:\n",
    "    sampling_shape = (config.eval.batch_size,\n",
    "                      config.data.num_channels,\n",
    "                      config.data.image_height, config.data.image_width)\n",
    "    sampling_fn = sampling.get_sampling_fn(config, sde, sampling_shape, inverse_scaler, sampling_eps, net)\n",
    "    \n",
    "print(\"DONE!\")"
   ]
  },
  {
   "cell_type": "code",
   "execution_count": 7,
   "metadata": {},
   "outputs": [
    {
     "data": {
      "text/plain": [
       "12"
      ]
     },
     "execution_count": 7,
     "metadata": {},
     "output_type": "execute_result"
    }
   ],
   "source": [
    "import gc\n",
    "torch.cuda.empty_cache()\n",
    "gc.collect()"
   ]
  },
  {
   "cell_type": "code",
   "execution_count": null,
   "metadata": {},
   "outputs": [
    {
     "name": "stdout",
     "output_type": "stream",
     "text": [
      "Sampling for 1 rounds...\n"
     ]
    },
    {
     "name": "stderr",
     "output_type": "stream",
     "text": [
      " 64%|██████▎   | 127/200 [09:24<09:57,  8.18s/it]"
     ]
    }
   ],
   "source": [
    "num_sampling_rounds = config.eval.num_samples // config.eval.batch_size + 1\n",
    "num_sampling_rounds = 1\n",
    "# Directory to save samples. Different for each host to avoid writing conflicts\n",
    "this_sample_dir = os.path.join(eval_dir, f\"ckpt_{ckpt}\")\n",
    "audio_dir = os.path.join(this_sample_dir,f\"audio_{ckpt}\")\n",
    "os.makedirs(this_sample_dir, exist_ok=True)\n",
    "os.makedirs(audio_dir, exist_ok=True)\n",
    "\n",
    "torch.backends.cudnn.benchmark=True\n",
    "net.eval()\n",
    "\n",
    "print(f\"Sampling for {num_sampling_rounds} rounds...\")\n",
    "start = time.time()\n",
    "total_samples = 0\n",
    "for r in range(num_sampling_rounds):\n",
    "    samples, n = sampling_fn(net)\n",
    "    total_samples += samples.shape[0]\n",
    "    print(f\"Round {r} nfe={n}\")\n",
    "stop = time.time()"
   ]
  },
  {
   "cell_type": "code",
   "execution_count": 9,
   "metadata": {},
   "outputs": [
    {
     "name": "stdout",
     "output_type": "stream",
     "text": [
      "Took:  392.07361102104187  seconds for  32 \n",
      "Average of  12.252300344407558\n"
     ]
    }
   ],
   "source": [
    "total = stop - start\n",
    "per_sample = total / total_samples\n",
    "print(\"Took: \", total, \" seconds for \", total_samples, \"\\nAverage of \", per_sample)"
   ]
  },
  {
   "cell_type": "code",
   "execution_count": 10,
   "metadata": {},
   "outputs": [],
   "source": [
    "from librosa.feature.inverse import db_to_power\n",
    "from librosa.feature.inverse import mel_to_audio"
   ]
  },
  {
   "cell_type": "code",
   "execution_count": 11,
   "metadata": {},
   "outputs": [],
   "source": [
    "from configs.default_audio_configs import get_mels_128"
   ]
  },
  {
   "cell_type": "code",
   "execution_count": 12,
   "metadata": {},
   "outputs": [],
   "source": [
    "spec_conf = get_mels_128()\n",
    "sample_rate = spec_conf.sample_rate\n",
    "hop_length = spec_conf.hop_length\n",
    "nfft = spec_conf.nfft"
   ]
  },
  {
   "cell_type": "code",
   "execution_count": 13,
   "metadata": {},
   "outputs": [
    {
     "name": "stderr",
     "output_type": "stream",
     "text": [
      "/cluster/home/matvogel/.local/lib/python3.10/site-packages/librosa/util/decorators.py:88: UserWarning: Empty filters detected in mel frequency basis. Some channels will produce empty responses. Try increasing your sampling rate (and fmax) or reducing n_mels.\n",
      "  return f(*args, **kwargs)\n"
     ]
    }
   ],
   "source": [
    "mel_dat = samples\n",
    "mel_data = mel_dat.squeeze().cpu().numpy()\n",
    "\n",
    "\n",
    "mel_data /= mel_data.max()\n",
    "mel_data *= 80\n",
    "mel_data -= 80\n",
    "\n",
    "mel_data = db_to_power(mel_data)\n",
    "audio = mel_to_audio(\n",
    "    M=mel_data,\n",
    "    sr=sample_rate,\n",
    "    n_fft=nfft,\n",
    "    hop_length=hop_length,\n",
    "    win_length=hop_length * 4,\n",
    "    center=True,\n",
    "    power=1,\n",
    "    n_iter=16,\n",
    "    fmin=20,\n",
    "    fmax=sample_rate / 2.0,\n",
    "    pad_mode=\"reflect\",\n",
    "    norm='slaney',\n",
    "    htk=True\n",
    ")\n",
    "audio /= max(audio.max(), -audio.min())"
   ]
  },
  {
   "cell_type": "code",
   "execution_count": 15,
   "metadata": {},
   "outputs": [
    {
     "data": {
      "text/html": [
       "\n",
       "                <audio  controls=\"controls\" >\n",
       "                    <source src=\"data:audio/wav;base64,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\" type=\"audio/wav\" />\n",
       "                    Your browser does not support the audio element.\n",
       "                </audio>\n",
       "              "
      ],
      "text/plain": [
       "<IPython.lib.display.Audio object>"
      ]
     },
     "execution_count": 15,
     "metadata": {},
     "output_type": "execute_result"
    }
   ],
   "source": [
    "import IPython.display as ipd\n",
    "ipd.Audio(audio[0], rate=sample_rate) # load a local WAV file"
   ]
  },
  {
   "cell_type": "markdown",
   "metadata": {},
   "source": [
    "## Full evaluation pipeline"
   ]
  },
  {
   "cell_type": "code",
   "execution_count": null,
   "metadata": {},
   "outputs": [],
   "source": [
    "sr = 16000\n",
    "mel_args = {\n",
    "      'sample_rate': sr,\n",
    "      'win_length': 256 * 4,\n",
    "      'hop_length': 256,\n",
    "      'n_fft': 1024,\n",
    "      'f_min': 20.0,\n",
    "      'f_max': sr / 2.0,\n",
    "      'n_mels': 80,\n",
    "      'power': 1.0,\n",
    "      'normalized': True,\n",
    "  }\n",
    "spectrogram = torchaudio.transforms.MelSpectrogram(**mel_args)\n",
    "audio, sr = torchaudio.load('SpeechCommands/speech_commands_v0.02/one/0a2b400e_nohash_0.wav')\n",
    "mel = spectrogram(audio)"
   ]
  },
  {
   "cell_type": "code",
   "execution_count": null,
   "metadata": {},
   "outputs": [],
   "source": [
    "start_diff = time.time()\n",
    "for _ in range(32):\n",
    "    audio, sample_rate = diffwave_predict(spectrogram, model_dir, fast_sampling=True)\n",
    "stop_diff = time.time()"
   ]
  },
  {
   "cell_type": "code",
   "execution_count": null,
   "metadata": {},
   "outputs": [],
   "source": [
    "print(stop_diff-start_diff)"
   ]
  },
  {
   "cell_type": "code",
   "execution_count": null,
   "metadata": {},
   "outputs": [],
   "source": [
    "import IPython.display as ipd\n",
    "ipd.Audio(audio[0].cpu().numpy(), rate=sample_rate) # load a local WAV file"
   ]
  },
  {
   "cell_type": "code",
   "execution_count": null,
   "metadata": {},
   "outputs": [],
   "source": [
    "start = time.time()\n",
    "evaluate(args)\n",
    "stop = time.time()"
   ]
  },
  {
   "cell_type": "code",
   "execution_count": null,
   "metadata": {},
   "outputs": [],
   "source": [
    "print(stop-start)"
   ]
  },
  {
   "cell_type": "code",
   "execution_count": null,
   "metadata": {},
   "outputs": [],
   "source": [
    "for i, item in enumerate(trainds):\n",
    "    if i>1: break\n",
    "    print(item.max(), item.min())"
   ]
  },
  {
   "cell_type": "code",
   "execution_count": null,
   "metadata": {},
   "outputs": [],
   "source": [
    "for i, (item, path) in enumerate(trainds):\n",
    "    if i>25: break\n",
    "    spec = item[0][0].numpy()\n",
    "    print(spec.min(), spec.max(), spec.mean())\n",
    "    print(path[0])\n",
    "    plt.figure()\n",
    "    plt.imshow(spec)\n",
    "    plt.show()\n",
    "    plt.figure()\n",
    "    plt.imshow(spec_demean)\n",
    "    plt.show()"
   ]
  },
  {
   "cell_type": "code",
   "execution_count": null,
   "metadata": {},
   "outputs": [],
   "source": []
  },
  {
   "cell_type": "code",
   "execution_count": null,
   "metadata": {},
   "outputs": [],
   "source": [
    "# Calculate norms on CIFAR10 for comparison\n",
    "import torchvision\n",
    "cf10 = torchvision.datasets.CIFAR10(root='.', download=True)\n",
    "\n",
    "norms_2_cf = []\n",
    "norms_cf = []\n",
    "for item in tqdm(cf10):\n",
    "    pic = np.array(item[0]) / 255.0\n",
    "    norm_2 = np.sqrt(pic.ravel()**2)\n",
    "    norms_2_cf.append(norm_2)\n",
    "    norm = pic.ravel()**2\n",
    "    norms_cf.append(norm)"
   ]
  },
  {
   "cell_type": "code",
   "execution_count": null,
   "metadata": {},
   "outputs": [],
   "source": [
    "norms_cf = np.array(norms_cf)\n",
    "norms_2_cf = np.array(norms_2_cf)\n",
    "\n",
    "print(norms_cf.sum())"
   ]
  },
  {
   "cell_type": "code",
   "execution_count": null,
   "metadata": {},
   "outputs": [],
   "source": [
    "norms_2 = []\n",
    "norms = []\n",
    "for batch in tqdm(trainds):\n",
    "    for item in batch:\n",
    "        #scale to 0-1\n",
    "        item += 1\n",
    "        item /= 2.0\n",
    "        norm = item.numpy().ravel()**2\n",
    "        norms.append(norm)\n",
    "        norm_2 = np.sqrt(item.numpy().ravel()**2)\n",
    "        norms_2.append(norm_2)"
   ]
  },
  {
   "cell_type": "code",
   "execution_count": null,
   "metadata": {},
   "outputs": [],
   "source": [
    "gc.collect()"
   ]
  },
  {
   "cell_type": "code",
   "execution_count": null,
   "metadata": {},
   "outputs": [],
   "source": [
    "norms = np.array(norms)"
   ]
  },
  {
   "cell_type": "code",
   "execution_count": null,
   "metadata": {},
   "outputs": [],
   "source": [
    "cfm = norms_cf.mean()\n",
    "nm = norms.mean()"
   ]
  },
  {
   "cell_type": "code",
   "execution_count": null,
   "metadata": {},
   "outputs": [],
   "source": [
    "nm/cfm * 32"
   ]
  },
  {
   "cell_type": "code",
   "execution_count": null,
   "metadata": {},
   "outputs": [],
   "source": [
    "norms.sum()"
   ]
  },
  {
   "cell_type": "code",
   "execution_count": null,
   "metadata": {},
   "outputs": [],
   "source": [
    "156607710 / 44138412"
   ]
  },
  {
   "cell_type": "code",
   "execution_count": null,
   "metadata": {},
   "outputs": [],
   "source": [
    "print(np.array(norms).mean(), np.array(norms_2).mean())"
   ]
  },
  {
   "cell_type": "code",
   "execution_count": null,
   "metadata": {},
   "outputs": [],
   "source": [
    "0.007212365 / .2873594542857112 * 32"
   ]
  },
  {
   "cell_type": "code",
   "execution_count": null,
   "metadata": {},
   "outputs": [],
   "source": [
    ".032030698 / .4733630004850902"
   ]
  },
  {
   "cell_type": "code",
   "execution_count": null,
   "metadata": {},
   "outputs": [],
   "source": []
  }
 ],
 "metadata": {
  "kernelspec": {
   "display_name": "Python 3 (ipykernel)",
   "language": "python",
   "name": "python3"
  },
  "language_info": {
   "codemirror_mode": {
    "name": "ipython",
    "version": 3
   },
   "file_extension": ".py",
   "mimetype": "text/x-python",
   "name": "python",
   "nbconvert_exporter": "python",
   "pygments_lexer": "ipython3",
   "version": "3.10.4"
  },
  "vscode": {
   "interpreter": {
    "hash": "f87e9152cc708f072f7609b2ff7dfe70a9fa6aa827d4385d867905509047eb54"
   }
  }
 },
 "nbformat": 4,
 "nbformat_minor": 2
}
