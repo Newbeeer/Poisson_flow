{
 "cells": [
  {
   "cell_type": "code",
   "execution_count": 1,
   "metadata": {},
   "outputs": [],
   "source": [
    "from datasets import get_dataset\n",
    "import matplotlib.pyplot as plt\n",
    "from tqdm import tqdm\n",
    "import numpy as np\n",
    "import time\n",
    "from configs.get_configs import get_config\n",
    "\n",
    "\n",
    "class DotDict(dict):\n",
    "    def __getattr__(self, key):\n",
    "        return self[key]\n",
    "    def __setattr__(self, key, val):\n",
    "        if key in self.__dict__:\n",
    "            self.__dict__[key] = val\n",
    "        else:\n",
    "            self[key] = val"
   ]
  },
  {
   "cell_type": "code",
   "execution_count": 2,
   "metadata": {},
   "outputs": [
    {
     "data": {
      "text/plain": [
       "1"
      ]
     },
     "execution_count": 2,
     "metadata": {},
     "output_type": "execute_result"
    }
   ],
   "source": [
    "import torch\n",
    "from evaluation import evaluate\n",
    "torch.cuda.device_count()"
   ]
  },
  {
   "cell_type": "code",
   "execution_count": 3,
   "metadata": {},
   "outputs": [
    {
     "data": {
      "text/plain": [
       "0"
      ]
     },
     "execution_count": 3,
     "metadata": {},
     "output_type": "execute_result"
    }
   ],
   "source": [
    "import torch\n",
    "import gc\n",
    "torch.cuda.empty_cache()\n",
    "gc.collect()"
   ]
  },
  {
   "cell_type": "code",
   "execution_count": 16,
   "metadata": {},
   "outputs": [],
   "source": [
    "%%capture\n",
    "args = DotDict()\n",
    "args.conf = \"128_deep\"\n",
    "args.test = False\n",
    "args.DDP = False\n",
    "args.workdir = \"pfgm_128_deep_v2\"\n",
    "args.eval_folder = \"eval\"\n",
    "args.sampling = True\n",
    "config = get_config(args)\n",
    "args.config = config\n",
    "#args.config.sampling.ode_solver = 'torchdiffeq'\n",
    "args.config.sampling.ode_solver = 'torchdiffeq' # rk45, improved_euler\n",
    "args.config.sampling.ckpt_number = 500000\n",
    "args.config.sampling.N = 50\n",
    "args.config.sampling.z_min = 1e-4\n",
    "args.config.sampling.z_max = 200\n",
    "args.config.eval.num_samples = 32\n",
    "args.config.eval.batch_size = 32\n",
    "args.config.eval.show_sampling = True"
   ]
  },
  {
   "cell_type": "markdown",
   "metadata": {},
   "source": [
    "## Libs for Sampling"
   ]
  },
  {
   "cell_type": "code",
   "execution_count": 17,
   "metadata": {},
   "outputs": [],
   "source": [
    "import datasets\n",
    "from models import utils as mutils\n",
    "from models.ema import ExponentialMovingAverage\n",
    "from models.ema import ExponentialMovingAverage\n",
    "import losses\n",
    "\n",
    "from configs.default_audio_configs import get_mels_64, get_mels_128\n",
    "\n",
    "from evaluation import sampling\n",
    "from evaluation.utils.mel_to_wav import convert\n",
    "import datasets\n",
    "import methods\n",
    "from utils.checkpoint import save_checkpoint, restore_checkpoint\n",
    "import os, logging"
   ]
  },
  {
   "cell_type": "code",
   "execution_count": 18,
   "metadata": {},
   "outputs": [
    {
     "name": "stdout",
     "output_type": "stream",
     "text": [
      "BUILDING MODEL...\n",
      "MODEL BUILT!\n",
      "Created Model\n",
      "--- sampling eps: 0.0001\n",
      "Loading from  pfgm_128_deep_v2/checkpoints/checkpoint_500000.pth\n",
      "State Loaded\n",
      "DONE!\n"
     ]
    }
   ],
   "source": [
    "config = args.config\n",
    "workdir = args.workdir\n",
    "eval_folder = args.eval_folder\n",
    "eval_dir = os.path.join(workdir, eval_folder)\n",
    "os.makedirs(eval_dir, exist_ok=True)\n",
    "\n",
    "# setup logger\n",
    "gfile_stream = open(os.path.join(args.workdir, 'stdout_eval.txt'), 'w')\n",
    "handler = logging.StreamHandler(gfile_stream)\n",
    "formatter = logging.Formatter('%(levelname)s - %(filename)s - %(asctime)s - %(message)s')\n",
    "handler.setFormatter(formatter)\n",
    "logger = logging.getLogger()\n",
    "logger.addHandler(handler)\n",
    "logger.setLevel('INFO')\n",
    "\n",
    "\n",
    "# Create data normalizer and its inverse\n",
    "scaler = datasets.get_data_scaler(config)\n",
    "inverse_scaler = datasets.get_data_inverse_scaler(config)\n",
    "\n",
    "# Initialize model\n",
    "net = mutils.create_model(args)\n",
    "print(\"Created Model\")\n",
    "optimizer, scheduler = losses.get_optimizer(config, net.parameters())\n",
    "ema = ExponentialMovingAverage(net.parameters(), decay=config.model.ema_rate)\n",
    "state = dict(optimizer=optimizer, model=net, ema=ema, scheduler=scheduler, step=0)\n",
    "\n",
    "checkpoint_dir = os.path.join(workdir, \"checkpoints\")\n",
    "\n",
    "torch.cuda.empty_cache()\n",
    "gc.collect()\n",
    "\n",
    "# Setup methods\n",
    "if config.training.sde.lower() == 'poisson':\n",
    "    sde = methods.Poisson(args=args)\n",
    "    sampling_eps = config.sampling.z_min\n",
    "    print(\"--- sampling eps:\", sampling_eps)\n",
    "else:\n",
    "    raise NotImplementedError(f\"Method {config.training.sde} unknown.\")\n",
    "\n",
    "\n",
    "# Wait if the target checkpoint doesn't exist yet\n",
    "torch.manual_seed(config.seed)\n",
    "np.random.seed(config.seed)\n",
    "\n",
    "if torch.cuda.is_available():\n",
    "    torch.cuda.manual_seed_all(config.seed)\n",
    "\n",
    "if config.training.sde == 'poisson':\n",
    "    if config.sampling.ckpt_number > 0:\n",
    "        ckpt_filename = os.path.join(checkpoint_dir, \"checkpoint_{}.pth\".format(config.sampling.ckpt_number))\n",
    "        ckpt_path = os.path.join(checkpoint_dir, f'checkpoint_{config.sampling.ckpt_number}.pth')\n",
    "    else:\n",
    "        raise ValueError(\"Please provide a ckpt_number!\")\n",
    "\n",
    "if not os.path.exists(ckpt_filename):\n",
    "    print(f\"{ckpt_filename} does not exist! Loading from meta-checkpoint\")\n",
    "    ckpt_filename = os.path.join(checkpoint_dir, os.pardir, 'checkpoints-meta', 'checkpoint.pth')\n",
    "    if not os.path.exists(ckpt_filename):\n",
    "        print(\"No checkpoints-meta\")\n",
    "\n",
    "# Wait for 2 additional mins in case the file exists but is not ready for reading\n",
    "print(\"Loading from \", ckpt_path)\n",
    "try:\n",
    "    state = restore_checkpoint(ckpt_path, state, map_location=config.device)\n",
    "    print(\"State Loaded\")\n",
    "except Exception as e:\n",
    "    print(\"Loading Failed!\")\n",
    "    print(e)\n",
    "    time.sleep(60)\n",
    "    try:\n",
    "        state = restore_checkpoint(ckpt_path, state, map_location=config.device)\n",
    "    except Exception as e:\n",
    "        time.sleep(120)\n",
    "        state = restore_checkpoint(ckpt_path, state, map_location=config.device)\n",
    "\n",
    "        \n",
    "ckpt = config.sampling.ckpt_number\n",
    "ema.copy_to(net.parameters())\n",
    "\n",
    "# Build the sampling function when sampling is enabled\n",
    "if config.eval.enable_sampling:\n",
    "    sampling_shape = (config.eval.batch_size,\n",
    "                      config.data.num_channels,\n",
    "                      config.data.image_height, config.data.image_width)\n",
    "    sampling_fn = sampling.get_sampling_fn(config, sde, sampling_shape, inverse_scaler, sampling_eps, net)\n",
    "    \n",
    "print(\"DONE!\")"
   ]
  },
  {
   "cell_type": "code",
   "execution_count": 19,
   "metadata": {},
   "outputs": [
    {
     "data": {
      "text/plain": [
       "12"
      ]
     },
     "execution_count": 19,
     "metadata": {},
     "output_type": "execute_result"
    }
   ],
   "source": [
    "import gc\n",
    "torch.cuda.empty_cache()\n",
    "gc.collect()"
   ]
  },
  {
   "cell_type": "code",
   "execution_count": 20,
   "metadata": {},
   "outputs": [
    {
     "name": "stdout",
     "output_type": "stream",
     "text": [
      "Sampling for 2 rounds...\n",
      "Round 0 nfe=120\n"
     ]
    }
   ],
   "source": [
    "num_sampling_rounds = config.eval.num_samples // config.eval.batch_size + 1\n",
    "# Directory to save samples. Different for each host to avoid writing conflicts\n",
    "this_sample_dir = os.path.join(eval_dir, f\"ckpt_{ckpt}\")\n",
    "audio_dir = os.path.join(this_sample_dir,f\"audio_{ckpt}\")\n",
    "os.makedirs(this_sample_dir, exist_ok=True)\n",
    "os.makedirs(audio_dir, exist_ok=True)\n",
    "\n",
    "torch.backends.cudnn.benchmark=True\n",
    "net.eval()\n",
    "\n",
    "print(f\"Sampling for {num_sampling_rounds} rounds...\")\n",
    "start = time.time()\n",
    "total_samples = 0\n",
    "for r in range(num_sampling_rounds):\n",
    "    samples, n = sampling_fn(net)\n",
    "    total_samples += samples.shape[0]\n",
    "    print(f\"Round {r} nfe={n}\")\n",
    "    break\n",
    "stop = time.time()"
   ]
  },
  {
   "cell_type": "code",
   "execution_count": 21,
   "metadata": {},
   "outputs": [
    {
     "name": "stdout",
     "output_type": "stream",
     "text": [
      "Took:  63.47312617301941  seconds for  32 \n",
      "Average of  1.9835351929068565\n"
     ]
    }
   ],
   "source": [
    "total = stop - start\n",
    "per_sample = total / total_samples\n",
    "print(\"Took: \", total, \" seconds for \", total_samples, \"\\nAverage of \", per_sample)"
   ]
  },
  {
   "cell_type": "code",
   "execution_count": 22,
   "metadata": {},
   "outputs": [],
   "source": [
    "from librosa.feature.inverse import db_to_power\n",
    "from librosa.feature.inverse import mel_to_audio"
   ]
  },
  {
   "cell_type": "code",
   "execution_count": 23,
   "metadata": {},
   "outputs": [],
   "source": [
    "from configs.default_audio_configs import get_mels_128"
   ]
  },
  {
   "cell_type": "code",
   "execution_count": 24,
   "metadata": {},
   "outputs": [],
   "source": [
    "spec_conf = get_mels_128()\n",
    "sample_rate = spec_conf.sample_rate\n",
    "hop_length = spec_conf.hop_length\n",
    "nfft = spec_conf.nfft"
   ]
  },
  {
   "cell_type": "code",
   "execution_count": 25,
   "metadata": {},
   "outputs": [
    {
     "name": "stderr",
     "output_type": "stream",
     "text": [
      "/cluster/home/matvogel/.local/lib/python3.10/site-packages/librosa/util/decorators.py:88: UserWarning: Empty filters detected in mel frequency basis. Some channels will produce empty responses. Try increasing your sampling rate (and fmax) or reducing n_mels.\n",
      "  return f(*args, **kwargs)\n"
     ]
    }
   ],
   "source": [
    "mel_dat = samples\n",
    "mel_data = mel_dat.squeeze().cpu().numpy()\n",
    "\n",
    "\n",
    "mel_data /= mel_data.max()\n",
    "mel_data *= 80\n",
    "mel_data -= 80\n",
    "\n",
    "mel_data = db_to_power(mel_data)\n",
    "audio = mel_to_audio(\n",
    "    M=mel_data,\n",
    "    sr=sample_rate,\n",
    "    n_fft=nfft,\n",
    "    hop_length=hop_length,\n",
    "    win_length=hop_length * 4,\n",
    "    center=True,\n",
    "    power=1,\n",
    "    n_iter=32,\n",
    "    fmin=20,\n",
    "    fmax=sample_rate / 2.0,\n",
    "    pad_mode=\"reflect\",\n",
    "    norm='slaney',\n",
    "    htk=True\n",
    ")\n",
    "audio /= max(audio.max(), -audio.min())"
   ]
  },
  {
   "cell_type": "code",
   "execution_count": 28,
   "metadata": {},
   "outputs": [
    {
     "data": {
      "text/html": [
       "\n",
       "                <audio  controls=\"controls\" >\n",
       "                    <source src=\"data:audio/wav;base64,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\" type=\"audio/wav\" />\n",
       "                    Your browser does not support the audio element.\n",
       "                </audio>\n",
       "              "
      ],
      "text/plain": [
       "<IPython.lib.display.Audio object>"
      ]
     },
     "execution_count": 28,
     "metadata": {},
     "output_type": "execute_result"
    }
   ],
   "source": [
    "import IPython.display as ipd\n",
    "ipd.Audio(audio[1], rate=sample_rate) # load a local WAV file"
   ]
  },
  {
   "cell_type": "markdown",
   "metadata": {},
   "source": [
    "# # Metrics"
   ]
  },
  {
   "cell_type": "code",
   "execution_count": 12,
   "metadata": {},
   "outputs": [],
   "source": [
    "from evaluation.metrics import compute_metrics\n",
    "import warnings\n",
    "warnings.filterwarnings(\"ignore\")\n",
    "import json"
   ]
  },
  {
   "cell_type": "code",
   "execution_count": 13,
   "metadata": {},
   "outputs": [],
   "source": [
    "%%capture\n",
    "args = DotDict()\n",
    "args.workdir = \"sd_128\"\n",
    "args.checkpoint_dir = \"sd_128/checkpoints\"\n",
    "args.conf = \"sd_128\"\n",
    "args.test = False\n",
    "args.DDP = False\n",
    "args.sampling = True\n",
    "args.config = get_config(args)\n",
    "args.config.eval.batch_size = 32\n",
    "args.config.eval.num_samples = 1200\n",
    "args.config.eval.input_mel = \"128\"\n",
    "args.config.eval.save_audio = True\n",
    "args.config.eval.enable_benchmarking = True\n",
    "\n",
    "\n",
    "args.config.sampling.ode_solver = 'torchdiffeq' # 'improved_euler', 'forward_euler', 'rk45'\n",
    "args.config.sampling.ckpt_number = 350000\n",
    "args.config.sampling.N = 50\n",
    "args.config.sampling.z_max = 200\n",
    "args.config.sampling.z_min = 1e-3\n",
    "args.config.sampling.upper_norm = 5000\n",
    "args.config.seed = 49"
   ]
  },
  {
   "cell_type": "code",
   "execution_count": 14,
   "metadata": {},
   "outputs": [
    {
     "name": "stdout",
     "output_type": "stream",
     "text": [
      "loading model...\n",
      "use_gpu True\n"
     ]
    },
    {
     "name": "stderr",
     "output_type": "stream",
     "text": [
      "100%|██████████| 1280/1280 [00:25<00:00, 50.96audios/s] \n"
     ]
    },
    {
     "name": "stdout",
     "output_type": "stream",
     "text": [
      "loading model...\n",
      "use_gpu True\n"
     ]
    },
    {
     "name": "stderr",
     "output_type": "stream",
     "text": [
      "100%|██████████| 1280/1280 [00:14<00:00, 86.17audios/s] \n"
     ]
    }
   ],
   "source": [
    "args.eval_folder = f\"os_{args.config.sampling.ode_solver}_N_{args.config.sampling.N}_zmax_{args.config.sampling.z_max}_zmin_{args.config.sampling.z_min}_un_{args.config.sampling.upper_norm}_seed_{args.config.seed}\"\n",
    "metrics = compute_metrics(f\"{args.workdir}/ckpt_{args.config.sampling.ckpt_number}/{args.eval_folder}/audio\")\n",
    "# Log metrics\n",
    "with open(f'{args.workdir}/ckpt_{args.config.sampling.ckpt_number}/{args.eval_folder}/metrics.txt', 'w+') as metric_file:\n",
    "     metric_file.write(json.dumps(metrics))"
   ]
  },
  {
   "cell_type": "markdown",
   "metadata": {},
   "source": [
    "## Full evaluation pipeline"
   ]
  },
  {
   "cell_type": "code",
   "execution_count": null,
   "metadata": {},
   "outputs": [],
   "source": [
    "sr = 16000\n",
    "mel_args = {\n",
    "      'sample_rate': sr,\n",
    "      'win_length': 256 * 4,\n",
    "      'hop_length': 256,\n",
    "      'n_fft': 1024,\n",
    "      'f_min': 20.0,\n",
    "      'f_max': sr / 2.0,\n",
    "      'n_mels': 80,\n",
    "      'power': 1.0,\n",
    "      'normalized': True,\n",
    "  }\n",
    "spectrogram = torchaudio.transforms.MelSpectrogram(**mel_args)\n",
    "audio, sr = torchaudio.load('SpeechCommands/speech_commands_v0.02/one/0a2b400e_nohash_0.wav')\n",
    "mel = spectrogram(audio)"
   ]
  },
  {
   "cell_type": "code",
   "execution_count": null,
   "metadata": {},
   "outputs": [],
   "source": [
    "start_diff = time.time()\n",
    "for _ in range(32):\n",
    "    audio, sample_rate = diffwave_predict(spectrogram, model_dir, fast_sampling=True)\n",
    "stop_diff = time.time()"
   ]
  },
  {
   "cell_type": "code",
   "execution_count": null,
   "metadata": {},
   "outputs": [],
   "source": [
    "print(stop_diff-start_diff)"
   ]
  },
  {
   "cell_type": "code",
   "execution_count": null,
   "metadata": {},
   "outputs": [],
   "source": [
    "import IPython.display as ipd\n",
    "ipd.Audio(audio[0].cpu().numpy(), rate=sample_rate) # load a local WAV file"
   ]
  },
  {
   "cell_type": "code",
   "execution_count": null,
   "metadata": {},
   "outputs": [],
   "source": [
    "start = time.time()\n",
    "evaluate(args)\n",
    "stop = time.time()"
   ]
  },
  {
   "cell_type": "code",
   "execution_count": null,
   "metadata": {},
   "outputs": [],
   "source": [
    "print(stop-start)"
   ]
  },
  {
   "cell_type": "code",
   "execution_count": null,
   "metadata": {},
   "outputs": [],
   "source": [
    "for i, item in enumerate(trainds):\n",
    "    if i>1: break\n",
    "    print(item.max(), item.min())"
   ]
  },
  {
   "cell_type": "code",
   "execution_count": null,
   "metadata": {},
   "outputs": [],
   "source": [
    "for i, (item, path) in enumerate(trainds):\n",
    "    if i>25: break\n",
    "    spec = item[0][0].numpy()\n",
    "    print(spec.min(), spec.max(), spec.mean())\n",
    "    print(path[0])\n",
    "    plt.figure()\n",
    "    plt.imshow(spec)\n",
    "    plt.show()\n",
    "    plt.figure()\n",
    "    plt.imshow(spec_demean)\n",
    "    plt.show()"
   ]
  },
  {
   "cell_type": "code",
   "execution_count": null,
   "metadata": {},
   "outputs": [],
   "source": []
  },
  {
   "cell_type": "code",
   "execution_count": null,
   "metadata": {},
   "outputs": [],
   "source": [
    "# Calculate norms on CIFAR10 for comparison\n",
    "import torchvision\n",
    "cf10 = torchvision.datasets.CIFAR10(root='.', download=True)\n",
    "\n",
    "norms_2_cf = []\n",
    "norms_cf = []\n",
    "for item in tqdm(cf10):\n",
    "    pic = np.array(item[0]) / 255.0\n",
    "    norm_2 = np.sqrt(pic.ravel()**2)\n",
    "    norms_2_cf.append(norm_2)\n",
    "    norm = pic.ravel()**2\n",
    "    norms_cf.append(norm)"
   ]
  },
  {
   "cell_type": "code",
   "execution_count": null,
   "metadata": {},
   "outputs": [],
   "source": [
    "norms_cf = np.array(norms_cf)\n",
    "norms_2_cf = np.array(norms_2_cf)\n",
    "\n",
    "print(norms_cf.sum())"
   ]
  },
  {
   "cell_type": "code",
   "execution_count": null,
   "metadata": {},
   "outputs": [],
   "source": [
    "norms_2 = []\n",
    "norms = []\n",
    "for batch in tqdm(trainds):\n",
    "    for item in batch:\n",
    "        #scale to 0-1\n",
    "        item += 1\n",
    "        item /= 2.0\n",
    "        norm = item.numpy().ravel()**2\n",
    "        norms.append(norm)\n",
    "        norm_2 = np.sqrt(item.numpy().ravel()**2)\n",
    "        norms_2.append(norm_2)"
   ]
  },
  {
   "cell_type": "code",
   "execution_count": null,
   "metadata": {},
   "outputs": [],
   "source": [
    "gc.collect()"
   ]
  },
  {
   "cell_type": "code",
   "execution_count": null,
   "metadata": {},
   "outputs": [],
   "source": [
    "norms = np.array(norms)"
   ]
  },
  {
   "cell_type": "code",
   "execution_count": null,
   "metadata": {},
   "outputs": [],
   "source": [
    "cfm = norms_cf.mean()\n",
    "nm = norms.mean()"
   ]
  },
  {
   "cell_type": "code",
   "execution_count": null,
   "metadata": {},
   "outputs": [],
   "source": [
    "nm/cfm * 32"
   ]
  },
  {
   "cell_type": "code",
   "execution_count": null,
   "metadata": {},
   "outputs": [],
   "source": [
    "norms.sum()"
   ]
  },
  {
   "cell_type": "code",
   "execution_count": null,
   "metadata": {},
   "outputs": [],
   "source": [
    "156607710 / 44138412"
   ]
  },
  {
   "cell_type": "code",
   "execution_count": null,
   "metadata": {},
   "outputs": [],
   "source": [
    "print(np.array(norms).mean(), np.array(norms_2).mean())"
   ]
  },
  {
   "cell_type": "code",
   "execution_count": null,
   "metadata": {},
   "outputs": [],
   "source": [
    "0.007212365 / .2873594542857112 * 32"
   ]
  },
  {
   "cell_type": "code",
   "execution_count": null,
   "metadata": {},
   "outputs": [],
   "source": [
    ".032030698 / .4733630004850902"
   ]
  },
  {
   "cell_type": "code",
   "execution_count": null,
   "metadata": {},
   "outputs": [],
   "source": []
  }
 ],
 "metadata": {
  "kernelspec": {
   "display_name": "Python 3 (ipykernel)",
   "language": "python",
   "name": "python3"
  },
  "language_info": {
   "codemirror_mode": {
    "name": "ipython",
    "version": 3
   },
   "file_extension": ".py",
   "mimetype": "text/x-python",
   "name": "python",
   "nbconvert_exporter": "python",
   "pygments_lexer": "ipython3",
   "version": "3.10.4"
  },
  "vscode": {
   "interpreter": {
    "hash": "f87e9152cc708f072f7609b2ff7dfe70a9fa6aa827d4385d867905509047eb54"
   }
  }
 },
 "nbformat": 4,
 "nbformat_minor": 2
}
