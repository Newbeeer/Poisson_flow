{
 "cells": [
  {
   "cell_type": "code",
   "execution_count": 1,
   "metadata": {},
   "outputs": [],
   "source": [
    "from datasets import get_dataset\n",
    "import matplotlib.pyplot as plt\n",
    "from tqdm import tqdm\n",
    "import numpy as np\n",
    "import time\n",
    "from configs.get_configs import get_config\n",
    "\n",
    "\n",
    "class DotDict(dict):\n",
    "    def __getattr__(self, key):\n",
    "        return self[key]\n",
    "    def __setattr__(self, key, val):\n",
    "        if key in self.__dict__:\n",
    "            self.__dict__[key] = val\n",
    "        else:\n",
    "            self[key] = val"
   ]
  },
  {
   "cell_type": "code",
   "execution_count": 2,
   "metadata": {},
   "outputs": [
    {
     "data": {
      "text/plain": [
       "1"
      ]
     },
     "execution_count": 2,
     "metadata": {},
     "output_type": "execute_result"
    }
   ],
   "source": [
    "import torch\n",
    "from evaluation import evaluate\n",
    "torch.cuda.device_count()"
   ]
  },
  {
   "cell_type": "code",
   "execution_count": 3,
   "metadata": {},
   "outputs": [
    {
     "data": {
      "text/plain": [
       "0"
      ]
     },
     "execution_count": 3,
     "metadata": {},
     "output_type": "execute_result"
    }
   ],
   "source": [
    "import torch\n",
    "import gc\n",
    "torch.cuda.empty_cache()\n",
    "gc.collect()"
   ]
  },
  {
   "cell_type": "code",
   "execution_count": 46,
   "metadata": {},
   "outputs": [],
   "source": [
    "%%capture\n",
    "args = DotDict()\n",
    "args.conf = \"128_deep\"\n",
    "args.test = False\n",
    "args.DDP = False\n",
    "args.workdir = \"pfgm_128_deep_v2\"\n",
    "args.eval_folder = \"eval\"\n",
    "args.sampling = True\n",
    "config = get_config(args)\n",
    "args.config = config\n",
    "#args.config.sampling.ode_solver = 'torchdiffeq'\n",
    "args.config.sampling.ode_solver = 'forward_euler' # rk45, improved_euler\n",
    "args.config.sampling.ckpt_number = 500000\n",
    "args.config.sampling.N = 50\n",
    "args.config.sampling.z_max = 200\n",
    "args.config.eval.num_samples = 32\n",
    "args.config.eval.batch_size = 32\n",
    "args.config.eval.show_sampling = True"
   ]
  },
  {
   "cell_type": "markdown",
   "metadata": {},
   "source": [
    "## Libs for Sampling"
   ]
  },
  {
   "cell_type": "code",
   "execution_count": 47,
   "metadata": {},
   "outputs": [],
   "source": [
    "import datasets\n",
    "from models import utils as mutils\n",
    "from models.ema import ExponentialMovingAverage\n",
    "from models.ema import ExponentialMovingAverage\n",
    "import losses\n",
    "\n",
    "from configs.default_audio_configs import get_mels_64, get_mels_128\n",
    "\n",
    "from evaluation import sampling\n",
    "from evaluation.utils.mel_to_wav import convert\n",
    "import datasets\n",
    "import methods\n",
    "from utils.checkpoint import save_checkpoint, restore_checkpoint\n",
    "import os, logging"
   ]
  },
  {
   "cell_type": "code",
   "execution_count": 48,
   "metadata": {},
   "outputs": [
    {
     "name": "stdout",
     "output_type": "stream",
     "text": [
      "BUILDING MODEL...\n",
      "MODEL BUILT!\n",
      "Created Model\n",
      "--- sampling eps: 0.001\n",
      "Loading from  pfgm_128_deep_v2/checkpoints/checkpoint_500000.pth\n",
      "State Loaded\n",
      "DONE!\n"
     ]
    }
   ],
   "source": [
    "config = args.config\n",
    "workdir = args.workdir\n",
    "eval_folder = args.eval_folder\n",
    "eval_dir = os.path.join(workdir, eval_folder)\n",
    "os.makedirs(eval_dir, exist_ok=True)\n",
    "\n",
    "# setup logger\n",
    "gfile_stream = open(os.path.join(args.workdir, 'stdout_eval.txt'), 'w')\n",
    "handler = logging.StreamHandler(gfile_stream)\n",
    "formatter = logging.Formatter('%(levelname)s - %(filename)s - %(asctime)s - %(message)s')\n",
    "handler.setFormatter(formatter)\n",
    "logger = logging.getLogger()\n",
    "logger.addHandler(handler)\n",
    "logger.setLevel('INFO')\n",
    "\n",
    "\n",
    "# Create data normalizer and its inverse\n",
    "scaler = datasets.get_data_scaler(config)\n",
    "inverse_scaler = datasets.get_data_inverse_scaler(config)\n",
    "\n",
    "# Initialize model\n",
    "net = mutils.create_model(args)\n",
    "print(\"Created Model\")\n",
    "optimizer, scheduler = losses.get_optimizer(config, net.parameters())\n",
    "ema = ExponentialMovingAverage(net.parameters(), decay=config.model.ema_rate)\n",
    "state = dict(optimizer=optimizer, model=net, ema=ema, scheduler=scheduler, step=0)\n",
    "\n",
    "checkpoint_dir = os.path.join(workdir, \"checkpoints\")\n",
    "\n",
    "torch.cuda.empty_cache()\n",
    "gc.collect()\n",
    "\n",
    "# Setup methods\n",
    "if config.training.sde.lower() == 'poisson':\n",
    "    sde = methods.Poisson(args=args)\n",
    "    sampling_eps = config.sampling.z_min\n",
    "    print(\"--- sampling eps:\", sampling_eps)\n",
    "else:\n",
    "    raise NotImplementedError(f\"Method {config.training.sde} unknown.\")\n",
    "\n",
    "\n",
    "# Wait if the target checkpoint doesn't exist yet\n",
    "torch.manual_seed(config.seed)\n",
    "np.random.seed(config.seed)\n",
    "\n",
    "if torch.cuda.is_available():\n",
    "    torch.cuda.manual_seed_all(config.seed)\n",
    "\n",
    "if config.training.sde == 'poisson':\n",
    "    if config.sampling.ckpt_number > 0:\n",
    "        ckpt_filename = os.path.join(checkpoint_dir, \"checkpoint_{}.pth\".format(config.sampling.ckpt_number))\n",
    "        ckpt_path = os.path.join(checkpoint_dir, f'checkpoint_{config.sampling.ckpt_number}.pth')\n",
    "    else:\n",
    "        raise ValueError(\"Please provide a ckpt_number!\")\n",
    "\n",
    "if not os.path.exists(ckpt_filename):\n",
    "    print(f\"{ckpt_filename} does not exist! Loading from meta-checkpoint\")\n",
    "    ckpt_filename = os.path.join(checkpoint_dir, os.pardir, 'checkpoints-meta', 'checkpoint.pth')\n",
    "    if not os.path.exists(ckpt_filename):\n",
    "        print(\"No checkpoints-meta\")\n",
    "\n",
    "# Wait for 2 additional mins in case the file exists but is not ready for reading\n",
    "print(\"Loading from \", ckpt_path)\n",
    "try:\n",
    "    state = restore_checkpoint(ckpt_path, state, map_location=config.device)\n",
    "    print(\"State Loaded\")\n",
    "except Exception as e:\n",
    "    print(\"Loading Failed!\")\n",
    "    print(e)\n",
    "    time.sleep(60)\n",
    "    try:\n",
    "        state = restore_checkpoint(ckpt_path, state, map_location=config.device)\n",
    "    except Exception as e:\n",
    "        time.sleep(120)\n",
    "        state = restore_checkpoint(ckpt_path, state, map_location=config.device)\n",
    "\n",
    "        \n",
    "ckpt = config.sampling.ckpt_number\n",
    "ema.copy_to(net.parameters())\n",
    "\n",
    "# Build the sampling function when sampling is enabled\n",
    "if config.eval.enable_sampling:\n",
    "    sampling_shape = (config.eval.batch_size,\n",
    "                      config.data.num_channels,\n",
    "                      config.data.image_height, config.data.image_width)\n",
    "    sampling_fn = sampling.get_sampling_fn(config, sde, sampling_shape, inverse_scaler, sampling_eps, net)\n",
    "    \n",
    "print(\"DONE!\")"
   ]
  },
  {
   "cell_type": "code",
   "execution_count": 49,
   "metadata": {},
   "outputs": [
    {
     "data": {
      "text/plain": [
       "12"
      ]
     },
     "execution_count": 49,
     "metadata": {},
     "output_type": "execute_result"
    }
   ],
   "source": [
    "import gc\n",
    "torch.cuda.empty_cache()\n",
    "gc.collect()"
   ]
  },
  {
   "cell_type": "code",
   "execution_count": 50,
   "metadata": {},
   "outputs": [
    {
     "name": "stdout",
     "output_type": "stream",
     "text": [
      "Sampling for 2 rounds...\n"
     ]
    },
    {
     "name": "stderr",
     "output_type": "stream",
     "text": [
      "100%|██████████| 50/50 [01:45<00:00,  2.12s/it]"
     ]
    },
    {
     "name": "stdout",
     "output_type": "stream",
     "text": [
      "Round 0 nfe=50\n"
     ]
    },
    {
     "name": "stderr",
     "output_type": "stream",
     "text": [
      "\n"
     ]
    }
   ],
   "source": [
    "num_sampling_rounds = config.eval.num_samples // config.eval.batch_size + 1\n",
    "# Directory to save samples. Different for each host to avoid writing conflicts\n",
    "this_sample_dir = os.path.join(eval_dir, f\"ckpt_{ckpt}\")\n",
    "audio_dir = os.path.join(this_sample_dir,f\"audio_{ckpt}\")\n",
    "os.makedirs(this_sample_dir, exist_ok=True)\n",
    "os.makedirs(audio_dir, exist_ok=True)\n",
    "\n",
    "torch.backends.cudnn.benchmark=True\n",
    "net.eval()\n",
    "\n",
    "print(f\"Sampling for {num_sampling_rounds} rounds...\")\n",
    "start = time.time()\n",
    "total_samples = 0\n",
    "for r in range(num_sampling_rounds):\n",
    "    samples, n = sampling_fn(net)\n",
    "    total_samples += samples.shape[0]\n",
    "    print(f\"Round {r} nfe={n}\")\n",
    "    break\n",
    "stop = time.time()"
   ]
  },
  {
   "cell_type": "code",
   "execution_count": 9,
   "metadata": {},
   "outputs": [
    {
     "name": "stdout",
     "output_type": "stream",
     "text": [
      "Took:  31.266218662261963  seconds for  32 \n",
      "Average of  0.9770693331956863\n"
     ]
    }
   ],
   "source": [
    "total = stop - start\n",
    "per_sample = total / total_samples\n",
    "print(\"Took: \", total, \" seconds for \", total_samples, \"\\nAverage of \", per_sample)"
   ]
  },
  {
   "cell_type": "code",
   "execution_count": 10,
   "metadata": {},
   "outputs": [],
   "source": [
    "from librosa.feature.inverse import db_to_power\n",
    "from librosa.feature.inverse import mel_to_audio"
   ]
  },
  {
   "cell_type": "code",
   "execution_count": 11,
   "metadata": {},
   "outputs": [],
   "source": [
    "from configs.default_audio_configs import get_mels_128"
   ]
  },
  {
   "cell_type": "code",
   "execution_count": 12,
   "metadata": {},
   "outputs": [],
   "source": [
    "spec_conf = get_mels_128()\n",
    "sample_rate = spec_conf.sample_rate\n",
    "hop_length = spec_conf.hop_length\n",
    "nfft = spec_conf.nfft"
   ]
  },
  {
   "cell_type": "code",
   "execution_count": 13,
   "metadata": {},
   "outputs": [
    {
     "name": "stderr",
     "output_type": "stream",
     "text": [
      "/cluster/home/matvogel/.local/lib/python3.10/site-packages/librosa/util/decorators.py:88: UserWarning: Empty filters detected in mel frequency basis. Some channels will produce empty responses. Try increasing your sampling rate (and fmax) or reducing n_mels.\n",
      "  return f(*args, **kwargs)\n"
     ]
    }
   ],
   "source": [
    "mel_dat = samples\n",
    "mel_data = mel_dat.squeeze().cpu().numpy()\n",
    "\n",
    "\n",
    "mel_data /= mel_data.max()\n",
    "mel_data *= 80\n",
    "mel_data -= 80\n",
    "\n",
    "mel_data = db_to_power(mel_data)\n",
    "audio = mel_to_audio(\n",
    "    M=mel_data,\n",
    "    sr=sample_rate,\n",
    "    n_fft=nfft,\n",
    "    hop_length=hop_length,\n",
    "    win_length=hop_length * 4,\n",
    "    center=True,\n",
    "    power=1,\n",
    "    n_iter=32,\n",
    "    fmin=20,\n",
    "    fmax=sample_rate / 2.0,\n",
    "    pad_mode=\"reflect\",\n",
    "    norm='slaney',\n",
    "    htk=True\n",
    ")\n",
    "audio /= max(audio.max(), -audio.min())"
   ]
  },
  {
   "cell_type": "code",
   "execution_count": 17,
   "metadata": {},
   "outputs": [
    {
     "data": {
      "text/html": [
       "\n",
       "                <audio  controls=\"controls\" >\n",
       "                    <source src=\"data:audio/wav;base64,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\" type=\"audio/wav\" />\n",
       "                    Your browser does not support the audio element.\n",
       "                </audio>\n",
       "              "
      ],
      "text/plain": [
       "<IPython.lib.display.Audio object>"
      ]
     },
     "execution_count": 17,
     "metadata": {},
     "output_type": "execute_result"
    }
   ],
   "source": [
    "import IPython.display as ipd\n",
    "ipd.Audio(audio[2], rate=sample_rate) # load a local WAV file"
   ]
  },
  {
   "cell_type": "markdown",
   "metadata": {},
   "source": [
    "# # Metrics"
   ]
  },
  {
   "cell_type": "code",
   "execution_count": 39,
   "metadata": {},
   "outputs": [],
   "source": [
    "from evaluation.metrics import compute_metrics\n",
    "import warnings\n",
    "warnings.filterwarnings(\"ignore\")\n",
    "import json"
   ]
  },
  {
   "cell_type": "code",
   "execution_count": 44,
   "metadata": {},
   "outputs": [],
   "source": [
    "%%capture\n",
    "args = DotDict()\n",
    "args.workdir = \"sd_128\"\n",
    "args.checkpoint_dir = \"sd_128/checkpoints\"\n",
    "args.conf = \"sd_128\"\n",
    "args.test = False\n",
    "args.DDP = False\n",
    "args.sampling = True\n",
    "args.config = get_config(args)\n",
    "args.config.eval.batch_size = 32\n",
    "args.config.eval.num_samples = 1200\n",
    "args.config.eval.input_mel = \"128\"\n",
    "args.config.eval.save_audio = True\n",
    "args.config.eval.enable_benchmarking = True\n",
    "\n",
    "\n",
    "args.config.sampling.ode_solver = 'rk45' # 'improved_euler', 'forward_euler', 'rk45'\n",
    "args.config.sampling.ckpt_number = 350000\n",
    "args.config.sampling.N = 100\n",
    "args.config.sampling.z_max = 150\n",
    "args.config.sampling.z_min = 1e-3\n",
    "args.config.sampling.upper_norm = 5000\n",
    "args.config.seed = 49"
   ]
  },
  {
   "cell_type": "code",
   "execution_count": 45,
   "metadata": {},
   "outputs": [
    {
     "name": "stdout",
     "output_type": "stream",
     "text": [
      "loading model...\n",
      "use_gpu True\n"
     ]
    },
    {
     "name": "stderr",
     "output_type": "stream",
     "text": [
      "100%|██████████| 1280/1280 [00:16<00:00, 78.63audios/s] \n"
     ]
    },
    {
     "name": "stdout",
     "output_type": "stream",
     "text": [
      "loading model...\n",
      "use_gpu True\n"
     ]
    },
    {
     "name": "stderr",
     "output_type": "stream",
     "text": [
      "100%|██████████| 1280/1280 [00:15<00:00, 84.78audios/s] \n"
     ]
    }
   ],
   "source": [
    "args.eval_folder = f\"os_{args.config.sampling.ode_solver}_N_{args.config.sampling.N}_zmax_{args.config.sampling.z_max}_zmin_{args.config.sampling.z_min}_un_{args.config.sampling.upper_norm}_seed_{args.config.seed}\"\n",
    "metrics = compute_metrics(f\"{args.workdir}/ckpt_{args.config.sampling.ckpt_number}/{args.eval_folder}/audio\")\n",
    "# Log metrics\n",
    "with open(f'{args.workdir}/ckpt_{args.config.sampling.ckpt_number}/{args.eval_folder}/metrics.txt', 'w+') as metric_file:\n",
    "     metric_file.write(json.dumps(metrics))"
   ]
  },
  {
   "cell_type": "code",
   "execution_count": null,
   "metadata": {},
   "outputs": [],
   "source": [
    "{'fid': 18.837556923289316,\n",
    " 'is': 2.5724897693249233,\n",
    " 'mis': 11.288457278997777,\n",
    " 'am': 1.5246628986330335,\n",
    " 'ndb': 2.0}"
   ]
  },
  {
   "cell_type": "markdown",
   "metadata": {},
   "source": [
    "## Full evaluation pipeline"
   ]
  },
  {
   "cell_type": "code",
   "execution_count": null,
   "metadata": {},
   "outputs": [],
   "source": [
    "sr = 16000\n",
    "mel_args = {\n",
    "      'sample_rate': sr,\n",
    "      'win_length': 256 * 4,\n",
    "      'hop_length': 256,\n",
    "      'n_fft': 1024,\n",
    "      'f_min': 20.0,\n",
    "      'f_max': sr / 2.0,\n",
    "      'n_mels': 80,\n",
    "      'power': 1.0,\n",
    "      'normalized': True,\n",
    "  }\n",
    "spectrogram = torchaudio.transforms.MelSpectrogram(**mel_args)\n",
    "audio, sr = torchaudio.load('SpeechCommands/speech_commands_v0.02/one/0a2b400e_nohash_0.wav')\n",
    "mel = spectrogram(audio)"
   ]
  },
  {
   "cell_type": "code",
   "execution_count": null,
   "metadata": {},
   "outputs": [],
   "source": [
    "start_diff = time.time()\n",
    "for _ in range(32):\n",
    "    audio, sample_rate = diffwave_predict(spectrogram, model_dir, fast_sampling=True)\n",
    "stop_diff = time.time()"
   ]
  },
  {
   "cell_type": "code",
   "execution_count": null,
   "metadata": {},
   "outputs": [],
   "source": [
    "print(stop_diff-start_diff)"
   ]
  },
  {
   "cell_type": "code",
   "execution_count": null,
   "metadata": {},
   "outputs": [],
   "source": [
    "import IPython.display as ipd\n",
    "ipd.Audio(audio[0].cpu().numpy(), rate=sample_rate) # load a local WAV file"
   ]
  },
  {
   "cell_type": "code",
   "execution_count": null,
   "metadata": {},
   "outputs": [],
   "source": [
    "start = time.time()\n",
    "evaluate(args)\n",
    "stop = time.time()"
   ]
  },
  {
   "cell_type": "code",
   "execution_count": null,
   "metadata": {},
   "outputs": [],
   "source": [
    "print(stop-start)"
   ]
  },
  {
   "cell_type": "code",
   "execution_count": null,
   "metadata": {},
   "outputs": [],
   "source": [
    "for i, item in enumerate(trainds):\n",
    "    if i>1: break\n",
    "    print(item.max(), item.min())"
   ]
  },
  {
   "cell_type": "code",
   "execution_count": null,
   "metadata": {},
   "outputs": [],
   "source": [
    "for i, (item, path) in enumerate(trainds):\n",
    "    if i>25: break\n",
    "    spec = item[0][0].numpy()\n",
    "    print(spec.min(), spec.max(), spec.mean())\n",
    "    print(path[0])\n",
    "    plt.figure()\n",
    "    plt.imshow(spec)\n",
    "    plt.show()\n",
    "    plt.figure()\n",
    "    plt.imshow(spec_demean)\n",
    "    plt.show()"
   ]
  },
  {
   "cell_type": "code",
   "execution_count": null,
   "metadata": {},
   "outputs": [],
   "source": []
  },
  {
   "cell_type": "code",
   "execution_count": null,
   "metadata": {},
   "outputs": [],
   "source": [
    "# Calculate norms on CIFAR10 for comparison\n",
    "import torchvision\n",
    "cf10 = torchvision.datasets.CIFAR10(root='.', download=True)\n",
    "\n",
    "norms_2_cf = []\n",
    "norms_cf = []\n",
    "for item in tqdm(cf10):\n",
    "    pic = np.array(item[0]) / 255.0\n",
    "    norm_2 = np.sqrt(pic.ravel()**2)\n",
    "    norms_2_cf.append(norm_2)\n",
    "    norm = pic.ravel()**2\n",
    "    norms_cf.append(norm)"
   ]
  },
  {
   "cell_type": "code",
   "execution_count": null,
   "metadata": {},
   "outputs": [],
   "source": [
    "norms_cf = np.array(norms_cf)\n",
    "norms_2_cf = np.array(norms_2_cf)\n",
    "\n",
    "print(norms_cf.sum())"
   ]
  },
  {
   "cell_type": "code",
   "execution_count": null,
   "metadata": {},
   "outputs": [],
   "source": [
    "norms_2 = []\n",
    "norms = []\n",
    "for batch in tqdm(trainds):\n",
    "    for item in batch:\n",
    "        #scale to 0-1\n",
    "        item += 1\n",
    "        item /= 2.0\n",
    "        norm = item.numpy().ravel()**2\n",
    "        norms.append(norm)\n",
    "        norm_2 = np.sqrt(item.numpy().ravel()**2)\n",
    "        norms_2.append(norm_2)"
   ]
  },
  {
   "cell_type": "code",
   "execution_count": null,
   "metadata": {},
   "outputs": [],
   "source": [
    "gc.collect()"
   ]
  },
  {
   "cell_type": "code",
   "execution_count": null,
   "metadata": {},
   "outputs": [],
   "source": [
    "norms = np.array(norms)"
   ]
  },
  {
   "cell_type": "code",
   "execution_count": null,
   "metadata": {},
   "outputs": [],
   "source": [
    "cfm = norms_cf.mean()\n",
    "nm = norms.mean()"
   ]
  },
  {
   "cell_type": "code",
   "execution_count": null,
   "metadata": {},
   "outputs": [],
   "source": [
    "nm/cfm * 32"
   ]
  },
  {
   "cell_type": "code",
   "execution_count": null,
   "metadata": {},
   "outputs": [],
   "source": [
    "norms.sum()"
   ]
  },
  {
   "cell_type": "code",
   "execution_count": null,
   "metadata": {},
   "outputs": [],
   "source": [
    "156607710 / 44138412"
   ]
  },
  {
   "cell_type": "code",
   "execution_count": null,
   "metadata": {},
   "outputs": [],
   "source": [
    "print(np.array(norms).mean(), np.array(norms_2).mean())"
   ]
  },
  {
   "cell_type": "code",
   "execution_count": null,
   "metadata": {},
   "outputs": [],
   "source": [
    "0.007212365 / .2873594542857112 * 32"
   ]
  },
  {
   "cell_type": "code",
   "execution_count": null,
   "metadata": {},
   "outputs": [],
   "source": [
    ".032030698 / .4733630004850902"
   ]
  },
  {
   "cell_type": "code",
   "execution_count": null,
   "metadata": {},
   "outputs": [],
   "source": []
  }
 ],
 "metadata": {
  "kernelspec": {
   "display_name": "Python 3 (ipykernel)",
   "language": "python",
   "name": "python3"
  },
  "language_info": {
   "codemirror_mode": {
    "name": "ipython",
    "version": 3
   },
   "file_extension": ".py",
   "mimetype": "text/x-python",
   "name": "python",
   "nbconvert_exporter": "python",
   "pygments_lexer": "ipython3",
   "version": "3.10.4"
  },
  "vscode": {
   "interpreter": {
    "hash": "f87e9152cc708f072f7609b2ff7dfe70a9fa6aa827d4385d867905509047eb54"
   }
  }
 },
 "nbformat": 4,
 "nbformat_minor": 2
}
