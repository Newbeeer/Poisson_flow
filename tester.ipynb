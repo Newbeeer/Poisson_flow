{
 "cells": [
  {
   "cell_type": "code",
   "execution_count": 1,
   "metadata": {},
   "outputs": [],
   "source": [
    "from datasets import get_dataset\n",
    "import matplotlib.pyplot as plt\n",
    "from tqdm import tqdm\n",
    "import numpy as np\n",
    "import time\n",
    "from configs.get_configs import get_config\n",
    "\n",
    "\n",
    "class DotDict(dict):\n",
    "    def __getattr__(self, key):\n",
    "        return self[key]\n",
    "    def __setattr__(self, key, val):\n",
    "        if key in self.__dict__:\n",
    "            self.__dict__[key] = val\n",
    "        else:\n",
    "            self[key] = val"
   ]
  },
  {
   "cell_type": "code",
   "execution_count": 2,
   "metadata": {},
   "outputs": [
    {
     "data": {
      "text/plain": [
       "1"
      ]
     },
     "execution_count": 2,
     "metadata": {},
     "output_type": "execute_result"
    }
   ],
   "source": [
    "import torch\n",
    "from evaluation import evaluate\n",
    "torch.cuda.device_count()"
   ]
  },
  {
   "cell_type": "code",
   "execution_count": 3,
   "metadata": {},
   "outputs": [
    {
     "data": {
      "text/plain": [
       "0"
      ]
     },
     "execution_count": 3,
     "metadata": {},
     "output_type": "execute_result"
    }
   ],
   "source": [
    "import torch\n",
    "import gc\n",
    "torch.cuda.empty_cache()\n",
    "gc.collect()"
   ]
  },
  {
   "cell_type": "code",
   "execution_count": 4,
   "metadata": {},
   "outputs": [],
   "source": [
    "%%capture\n",
    "args = DotDict()\n",
    "args.conf = \"128_deep\"\n",
    "args.test = False\n",
    "args.DDP = False\n",
    "args.workdir = \"pfgm_128_deep_v2\"\n",
    "args.eval_folder = \"eval\"\n",
    "args.sampling = True\n",
    "config = get_config(args)\n",
    "args.config = config\n",
    "#args.config.sampling.ode_solver = 'torchdiffeq'\n",
    "args.config.sampling.ode_solver = 'rk45' # rk45, improved_euler\n",
    "args.config.sampling.ckpt_number = 500000\n",
    "#args.config.sampling.N = 100\n",
    "args.config.sampling.z_max = 200\n",
    "args.config.eval.num_samples = 32\n",
    "args.config.eval.batch_size = 32"
   ]
  },
  {
   "cell_type": "markdown",
   "metadata": {},
   "source": [
    "## Libs for Sampling"
   ]
  },
  {
   "cell_type": "code",
   "execution_count": 5,
   "metadata": {},
   "outputs": [],
   "source": [
    "import datasets\n",
    "from models import utils as mutils\n",
    "from models.ema import ExponentialMovingAverage\n",
    "from models.ema import ExponentialMovingAverage\n",
    "import losses\n",
    "\n",
    "from configs.default_audio_configs import get_mels_64, get_mels_128\n",
    "\n",
    "from evaluation import sampling\n",
    "from evaluation.utils.mel_to_wav import convert\n",
    "import datasets\n",
    "import methods\n",
    "from utils.checkpoint import save_checkpoint, restore_checkpoint\n",
    "import os, logging"
   ]
  },
  {
   "cell_type": "code",
   "execution_count": 6,
   "metadata": {},
   "outputs": [
    {
     "name": "stdout",
     "output_type": "stream",
     "text": [
      "BUILDING MODEL...\n",
      "MODEL BUILT!\n",
      "Created Model\n",
      "--- sampling eps: 0.001\n",
      "Loading from  pfgm_128_deep_v2/checkpoints/checkpoint_500000.pth\n",
      "State Loaded\n",
      "DONE!\n"
     ]
    }
   ],
   "source": [
    "config = args.config\n",
    "workdir = args.workdir\n",
    "eval_folder = args.eval_folder\n",
    "eval_dir = os.path.join(workdir, eval_folder)\n",
    "os.makedirs(eval_dir, exist_ok=True)\n",
    "\n",
    "# setup logger\n",
    "gfile_stream = open(os.path.join(args.workdir, 'stdout_eval.txt'), 'w')\n",
    "handler = logging.StreamHandler(gfile_stream)\n",
    "formatter = logging.Formatter('%(levelname)s - %(filename)s - %(asctime)s - %(message)s')\n",
    "handler.setFormatter(formatter)\n",
    "logger = logging.getLogger()\n",
    "logger.addHandler(handler)\n",
    "logger.setLevel('INFO')\n",
    "\n",
    "\n",
    "# Create data normalizer and its inverse\n",
    "scaler = datasets.get_data_scaler(config)\n",
    "inverse_scaler = datasets.get_data_inverse_scaler(config)\n",
    "\n",
    "# Initialize model\n",
    "net = mutils.create_model(args)\n",
    "print(\"Created Model\")\n",
    "optimizer, scheduler = losses.get_optimizer(config, net.parameters())\n",
    "ema = ExponentialMovingAverage(net.parameters(), decay=config.model.ema_rate)\n",
    "state = dict(optimizer=optimizer, model=net, ema=ema, scheduler=scheduler, step=0)\n",
    "\n",
    "checkpoint_dir = os.path.join(workdir, \"checkpoints\")\n",
    "\n",
    "torch.cuda.empty_cache()\n",
    "gc.collect()\n",
    "\n",
    "# Setup methods\n",
    "if config.training.sde.lower() == 'poisson':\n",
    "    sde = methods.Poisson(args=args)\n",
    "    sampling_eps = config.sampling.z_min\n",
    "    print(\"--- sampling eps:\", sampling_eps)\n",
    "else:\n",
    "    raise NotImplementedError(f\"Method {config.training.sde} unknown.\")\n",
    "\n",
    "\n",
    "# Wait if the target checkpoint doesn't exist yet\n",
    "torch.manual_seed(config.seed)\n",
    "np.random.seed(config.seed)\n",
    "\n",
    "if torch.cuda.is_available():\n",
    "    torch.cuda.manual_seed_all(config.seed)\n",
    "\n",
    "if config.training.sde == 'poisson':\n",
    "    if config.sampling.ckpt_number > 0:\n",
    "        ckpt_filename = os.path.join(checkpoint_dir, \"checkpoint_{}.pth\".format(config.sampling.ckpt_number))\n",
    "        ckpt_path = os.path.join(checkpoint_dir, f'checkpoint_{config.sampling.ckpt_number}.pth')\n",
    "    else:\n",
    "        raise ValueError(\"Please provide a ckpt_number!\")\n",
    "\n",
    "if not os.path.exists(ckpt_filename):\n",
    "    print(f\"{ckpt_filename} does not exist! Loading from meta-checkpoint\")\n",
    "    ckpt_filename = os.path.join(checkpoint_dir, os.pardir, 'checkpoints-meta', 'checkpoint.pth')\n",
    "    if not os.path.exists(ckpt_filename):\n",
    "        print(\"No checkpoints-meta\")\n",
    "\n",
    "# Wait for 2 additional mins in case the file exists but is not ready for reading\n",
    "print(\"Loading from \", ckpt_path)\n",
    "try:\n",
    "    state = restore_checkpoint(ckpt_path, state, map_location=config.device)\n",
    "    print(\"State Loaded\")\n",
    "except Exception as e:\n",
    "    print(\"Loading Failed!\")\n",
    "    print(e)\n",
    "    time.sleep(60)\n",
    "    try:\n",
    "        state = restore_checkpoint(ckpt_path, state, map_location=config.device)\n",
    "    except Exception as e:\n",
    "        time.sleep(120)\n",
    "        state = restore_checkpoint(ckpt_path, state, map_location=config.device)\n",
    "\n",
    "        \n",
    "ckpt = config.sampling.ckpt_number\n",
    "ema.copy_to(net.parameters())\n",
    "\n",
    "# Build the sampling function when sampling is enabled\n",
    "if config.eval.enable_sampling:\n",
    "    sampling_shape = (config.eval.batch_size,\n",
    "                      config.data.num_channels,\n",
    "                      config.data.image_height, config.data.image_width)\n",
    "    sampling_fn = sampling.get_sampling_fn(config, sde, sampling_shape, inverse_scaler, sampling_eps, net)\n",
    "    \n",
    "print(\"DONE!\")"
   ]
  },
  {
   "cell_type": "code",
   "execution_count": 7,
   "metadata": {},
   "outputs": [
    {
     "data": {
      "text/plain": [
       "12"
      ]
     },
     "execution_count": 7,
     "metadata": {},
     "output_type": "execute_result"
    }
   ],
   "source": [
    "import gc\n",
    "torch.cuda.empty_cache()\n",
    "gc.collect()"
   ]
  },
  {
   "cell_type": "code",
   "execution_count": 8,
   "metadata": {},
   "outputs": [
    {
     "name": "stdout",
     "output_type": "stream",
     "text": [
      "Sampling for 2 rounds...\n",
      " lsoda--  rwork length needed, lenrw (=i1), exceeds lrw (=i2)\n",
      "      in above message,  i1 =  16777236   i2 =   9437206\n",
      "Round 0 nfe=0\n"
     ]
    },
    {
     "name": "stderr",
     "output_type": "stream",
     "text": [
      "/cluster/apps/nss/gcc-8.2.0/python/3.10.4/x86_64/lib64/python3.10/site-packages/scipy/integrate/_ode.py:1350: UserWarning: lsoda: Illegal input detected (internal error).\n",
      "  warnings.warn('{:s}: {:s}'.format(self.__class__.__name__,\n"
     ]
    }
   ],
   "source": [
    "num_sampling_rounds = config.eval.num_samples // config.eval.batch_size + 1\n",
    "# Directory to save samples. Different for each host to avoid writing conflicts\n",
    "this_sample_dir = os.path.join(eval_dir, f\"ckpt_{ckpt}\")\n",
    "audio_dir = os.path.join(this_sample_dir,f\"audio_{ckpt}\")\n",
    "os.makedirs(this_sample_dir, exist_ok=True)\n",
    "os.makedirs(audio_dir, exist_ok=True)\n",
    "\n",
    "torch.backends.cudnn.benchmark=True\n",
    "net.eval()\n",
    "\n",
    "print(f\"Sampling for {num_sampling_rounds} rounds...\")\n",
    "start = time.time()\n",
    "total_samples = 0\n",
    "for r in range(num_sampling_rounds):\n",
    "    samples, n = sampling_fn(net)\n",
    "    total_samples += samples.shape[0]\n",
    "    print(f\"Round {r} nfe={n}\")\n",
    "    break\n",
    "stop = time.time()"
   ]
  },
  {
   "cell_type": "code",
   "execution_count": 14,
   "metadata": {},
   "outputs": [
    {
     "name": "stdout",
     "output_type": "stream",
     "text": [
      "Took:  140.98982501029968  seconds for  32 \n",
      "Average of  4.405932031571865\n"
     ]
    }
   ],
   "source": [
    "total = stop - start\n",
    "per_sample = total / total_samples\n",
    "print(\"Took: \", total, \" seconds for \", total_samples, \"\\nAverage of \", per_sample)"
   ]
  },
  {
   "cell_type": "code",
   "execution_count": 15,
   "metadata": {},
   "outputs": [],
   "source": [
    "from librosa.feature.inverse import db_to_power\n",
    "from librosa.feature.inverse import mel_to_audio"
   ]
  },
  {
   "cell_type": "code",
   "execution_count": 16,
   "metadata": {},
   "outputs": [],
   "source": [
    "from configs.default_audio_configs import get_mels_128"
   ]
  },
  {
   "cell_type": "code",
   "execution_count": 17,
   "metadata": {},
   "outputs": [],
   "source": [
    "spec_conf = get_mels_128()\n",
    "sample_rate = spec_conf.sample_rate\n",
    "hop_length = spec_conf.hop_length\n",
    "nfft = spec_conf.nfft"
   ]
  },
  {
   "cell_type": "code",
   "execution_count": 18,
   "metadata": {},
   "outputs": [
    {
     "name": "stderr",
     "output_type": "stream",
     "text": [
      "/cluster/home/matvogel/.local/lib/python3.10/site-packages/librosa/util/decorators.py:88: UserWarning: Empty filters detected in mel frequency basis. Some channels will produce empty responses. Try increasing your sampling rate (and fmax) or reducing n_mels.\n",
      "  return f(*args, **kwargs)\n"
     ]
    }
   ],
   "source": [
    "mel_dat = samples\n",
    "mel_data = mel_dat.squeeze().cpu().numpy()\n",
    "\n",
    "\n",
    "mel_data /= mel_data.max()\n",
    "mel_data *= 80\n",
    "mel_data -= 80\n",
    "\n",
    "mel_data = db_to_power(mel_data)\n",
    "audio = mel_to_audio(\n",
    "    M=mel_data,\n",
    "    sr=sample_rate,\n",
    "    n_fft=nfft,\n",
    "    hop_length=hop_length,\n",
    "    win_length=hop_length * 4,\n",
    "    center=True,\n",
    "    power=1,\n",
    "    n_iter=32,\n",
    "    fmin=20,\n",
    "    fmax=sample_rate / 2.0,\n",
    "    pad_mode=\"reflect\",\n",
    "    norm='slaney',\n",
    "    htk=True\n",
    ")\n",
    "audio /= max(audio.max(), -audio.min())"
   ]
  },
  {
   "cell_type": "code",
   "execution_count": 20,
   "metadata": {},
   "outputs": [
    {
     "data": {
      "text/html": [
       "\n",
       "                <audio  controls=\"controls\" >\n",
       "                    <source src=\"data:audio/wav;base64,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\" type=\"audio/wav\" />\n",
       "                    Your browser does not support the audio element.\n",
       "                </audio>\n",
       "              "
      ],
      "text/plain": [
       "<IPython.lib.display.Audio object>"
      ]
     },
     "execution_count": 20,
     "metadata": {},
     "output_type": "execute_result"
    }
   ],
   "source": [
    "import IPython.display as ipd\n",
    "ipd.Audio(audio[0], rate=sample_rate) # load a local WAV file"
   ]
  },
  {
   "cell_type": "markdown",
   "metadata": {},
   "source": [
    "## Full evaluation pipeline"
   ]
  },
  {
   "cell_type": "code",
   "execution_count": null,
   "metadata": {},
   "outputs": [],
   "source": [
    "sr = 16000\n",
    "mel_args = {\n",
    "      'sample_rate': sr,\n",
    "      'win_length': 256 * 4,\n",
    "      'hop_length': 256,\n",
    "      'n_fft': 1024,\n",
    "      'f_min': 20.0,\n",
    "      'f_max': sr / 2.0,\n",
    "      'n_mels': 80,\n",
    "      'power': 1.0,\n",
    "      'normalized': True,\n",
    "  }\n",
    "spectrogram = torchaudio.transforms.MelSpectrogram(**mel_args)\n",
    "audio, sr = torchaudio.load('SpeechCommands/speech_commands_v0.02/one/0a2b400e_nohash_0.wav')\n",
    "mel = spectrogram(audio)"
   ]
  },
  {
   "cell_type": "code",
   "execution_count": null,
   "metadata": {},
   "outputs": [],
   "source": [
    "start_diff = time.time()\n",
    "for _ in range(32):\n",
    "    audio, sample_rate = diffwave_predict(spectrogram, model_dir, fast_sampling=True)\n",
    "stop_diff = time.time()"
   ]
  },
  {
   "cell_type": "code",
   "execution_count": null,
   "metadata": {},
   "outputs": [],
   "source": [
    "print(stop_diff-start_diff)"
   ]
  },
  {
   "cell_type": "code",
   "execution_count": null,
   "metadata": {},
   "outputs": [],
   "source": [
    "import IPython.display as ipd\n",
    "ipd.Audio(audio[0].cpu().numpy(), rate=sample_rate) # load a local WAV file"
   ]
  },
  {
   "cell_type": "code",
   "execution_count": null,
   "metadata": {},
   "outputs": [],
   "source": [
    "start = time.time()\n",
    "evaluate(args)\n",
    "stop = time.time()"
   ]
  },
  {
   "cell_type": "code",
   "execution_count": null,
   "metadata": {},
   "outputs": [],
   "source": [
    "print(stop-start)"
   ]
  },
  {
   "cell_type": "code",
   "execution_count": null,
   "metadata": {},
   "outputs": [],
   "source": [
    "for i, item in enumerate(trainds):\n",
    "    if i>1: break\n",
    "    print(item.max(), item.min())"
   ]
  },
  {
   "cell_type": "code",
   "execution_count": null,
   "metadata": {},
   "outputs": [],
   "source": [
    "for i, (item, path) in enumerate(trainds):\n",
    "    if i>25: break\n",
    "    spec = item[0][0].numpy()\n",
    "    print(spec.min(), spec.max(), spec.mean())\n",
    "    print(path[0])\n",
    "    plt.figure()\n",
    "    plt.imshow(spec)\n",
    "    plt.show()\n",
    "    plt.figure()\n",
    "    plt.imshow(spec_demean)\n",
    "    plt.show()"
   ]
  },
  {
   "cell_type": "code",
   "execution_count": null,
   "metadata": {},
   "outputs": [],
   "source": []
  },
  {
   "cell_type": "code",
   "execution_count": null,
   "metadata": {},
   "outputs": [],
   "source": [
    "# Calculate norms on CIFAR10 for comparison\n",
    "import torchvision\n",
    "cf10 = torchvision.datasets.CIFAR10(root='.', download=True)\n",
    "\n",
    "norms_2_cf = []\n",
    "norms_cf = []\n",
    "for item in tqdm(cf10):\n",
    "    pic = np.array(item[0]) / 255.0\n",
    "    norm_2 = np.sqrt(pic.ravel()**2)\n",
    "    norms_2_cf.append(norm_2)\n",
    "    norm = pic.ravel()**2\n",
    "    norms_cf.append(norm)"
   ]
  },
  {
   "cell_type": "code",
   "execution_count": null,
   "metadata": {},
   "outputs": [],
   "source": [
    "norms_cf = np.array(norms_cf)\n",
    "norms_2_cf = np.array(norms_2_cf)\n",
    "\n",
    "print(norms_cf.sum())"
   ]
  },
  {
   "cell_type": "code",
   "execution_count": null,
   "metadata": {},
   "outputs": [],
   "source": [
    "norms_2 = []\n",
    "norms = []\n",
    "for batch in tqdm(trainds):\n",
    "    for item in batch:\n",
    "        #scale to 0-1\n",
    "        item += 1\n",
    "        item /= 2.0\n",
    "        norm = item.numpy().ravel()**2\n",
    "        norms.append(norm)\n",
    "        norm_2 = np.sqrt(item.numpy().ravel()**2)\n",
    "        norms_2.append(norm_2)"
   ]
  },
  {
   "cell_type": "code",
   "execution_count": null,
   "metadata": {},
   "outputs": [],
   "source": [
    "gc.collect()"
   ]
  },
  {
   "cell_type": "code",
   "execution_count": null,
   "metadata": {},
   "outputs": [],
   "source": [
    "norms = np.array(norms)"
   ]
  },
  {
   "cell_type": "code",
   "execution_count": null,
   "metadata": {},
   "outputs": [],
   "source": [
    "cfm = norms_cf.mean()\n",
    "nm = norms.mean()"
   ]
  },
  {
   "cell_type": "code",
   "execution_count": null,
   "metadata": {},
   "outputs": [],
   "source": [
    "nm/cfm * 32"
   ]
  },
  {
   "cell_type": "code",
   "execution_count": null,
   "metadata": {},
   "outputs": [],
   "source": [
    "norms.sum()"
   ]
  },
  {
   "cell_type": "code",
   "execution_count": null,
   "metadata": {},
   "outputs": [],
   "source": [
    "156607710 / 44138412"
   ]
  },
  {
   "cell_type": "code",
   "execution_count": null,
   "metadata": {},
   "outputs": [],
   "source": [
    "print(np.array(norms).mean(), np.array(norms_2).mean())"
   ]
  },
  {
   "cell_type": "code",
   "execution_count": null,
   "metadata": {},
   "outputs": [],
   "source": [
    "0.007212365 / .2873594542857112 * 32"
   ]
  },
  {
   "cell_type": "code",
   "execution_count": null,
   "metadata": {},
   "outputs": [],
   "source": [
    ".032030698 / .4733630004850902"
   ]
  },
  {
   "cell_type": "code",
   "execution_count": null,
   "metadata": {},
   "outputs": [],
   "source": []
  }
 ],
 "metadata": {
  "kernelspec": {
   "display_name": "Python 3 (ipykernel)",
   "language": "python",
   "name": "python3"
  },
  "language_info": {
   "codemirror_mode": {
    "name": "ipython",
    "version": 3
   },
   "file_extension": ".py",
   "mimetype": "text/x-python",
   "name": "python",
   "nbconvert_exporter": "python",
   "pygments_lexer": "ipython3",
   "version": "3.10.4"
  },
  "vscode": {
   "interpreter": {
    "hash": "f87e9152cc708f072f7609b2ff7dfe70a9fa6aa827d4385d867905509047eb54"
   }
  }
 },
 "nbformat": 4,
 "nbformat_minor": 2
}
