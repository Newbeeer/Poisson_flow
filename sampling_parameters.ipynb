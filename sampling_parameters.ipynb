{
 "cells": [
  {
   "cell_type": "code",
   "execution_count": 25,
   "metadata": {},
   "outputs": [
    {
     "name": "stdout",
     "output_type": "stream",
     "text": [
      "The autoreload extension is already loaded. To reload it, use:\n",
      "  %reload_ext autoreload\n"
     ]
    }
   ],
   "source": [
    "%load_ext autoreload\n",
    "%autoreload 2"
   ]
  },
  {
   "cell_type": "code",
   "execution_count": 26,
   "metadata": {},
   "outputs": [],
   "source": [
    "import torch\n",
    "import matplotlib.pyplot as plt\n",
    "from tqdm import tqdm\n",
    "import numpy as np\n",
    "\n",
    "from datasets import get_dataset\n",
    "from configs.get_configs import get_config\n",
    "import torchaudio"
   ]
  },
  {
   "cell_type": "code",
   "execution_count": 27,
   "metadata": {},
   "outputs": [],
   "source": [
    "import run_lib"
   ]
  },
  {
   "cell_type": "code",
   "execution_count": 45,
   "metadata": {},
   "outputs": [],
   "source": [
    "class DotDict(dict):\n",
    "    def __getattr__(self, key):\n",
    "        return self[key]\n",
    "    def __setattr__(self, key, val):\n",
    "        if key in self.__dict__:\n",
    "            self.__dict__[key] = val\n",
    "        else:\n",
    "            self[key] = val"
   ]
  },
  {
   "cell_type": "markdown",
   "metadata": {},
   "source": [
    "### Initialize Experiment"
   ]
  },
  {
   "cell_type": "code",
   "execution_count": 56,
   "metadata": {},
   "outputs": [
    {
     "name": "stdout",
     "output_type": "stream",
     "text": [
      "Read Config: \n",
      "data:\n",
      "  category: mel\n",
      "  centered: false\n",
      "  channels: 1\n",
      "  dataset: speech_commands\n",
      "  image_height: 64\n",
      "  image_width: 64\n",
      "  mel_root: mel_datasets/sc09_64\n",
      "  num_channels: 1\n",
      "  spec:\n",
      "    audio_length: 1\n",
      "    hop_length: 256\n",
      "    image_size: 64\n",
      "    nfft: 1024\n",
      "    num_mels: 64\n",
      "    sample_rate: 16000\n",
      "    spec_len_samples: 64\n",
      "  uniform_dequantization: false\n",
      "device: !!python/object/apply:torch.device\n",
      "- cpu\n",
      "eval:\n",
      "  batch_size: 32\n",
      "  begin_ckpt: 30\n",
      "  bpd_dataset: test\n",
      "  enable_bpd: false\n",
      "  enable_interpolate: false\n",
      "  enable_loss: false\n",
      "  enable_rescale: false\n",
      "  enable_sampling: true\n",
      "  end_ckpt: 31\n",
      "  num_samples: 32\n",
      "  save_images: true\n",
      "model:\n",
      "  attention_type: ddpm\n",
      "  attn_resolutions: !!python/tuple\n",
      "  - 16\n",
      "  beta_max: 20.0\n",
      "  beta_min: 0.1\n",
      "  ch_mult: !!python/tuple\n",
      "  - 1\n",
      "  - 1\n",
      "  - 2\n",
      "  - 2\n",
      "  - 4\n",
      "  - 4\n",
      "  conv_size: 3\n",
      "  dropout: 0.0\n",
      "  ema_rate: 0.995\n",
      "  embedding_type: positional\n",
      "  fourier_scale: 16\n",
      "  init_scale: 0.0\n",
      "  name: ncsnpp_audio\n",
      "  nf: 128\n",
      "  nonlinearity: swish\n",
      "  normalization: GroupNorm\n",
      "  num_res_blocks: 6\n",
      "  num_scales: 2000\n",
      "  progressive_combine: sum\n",
      "  resamp_with_conv: true\n",
      "  resblock_type: biggan\n",
      "  scale_by_sigma: false\n",
      "  sigma_end: 0.01\n",
      "  sigma_max: 378\n",
      "  sigma_min: 0.01\n",
      "  skip_rescale: true\n",
      "optim:\n",
      "  T_max: 2000\n",
      "  beta1: 0.9\n",
      "  eps: 1.0e-08\n",
      "  grad_clip: 1.0\n",
      "  lr: 0.0001\n",
      "  max_lr: 0.0003\n",
      "  optimizer: AdamW\n",
      "  scheduler: none\n",
      "  warmup: 1000\n",
      "  weight_decay: 0\n",
      "sampling:\n",
      "  N: 100\n",
      "  ckpt_number: 150000\n",
      "  method: ode\n",
      "  n_steps_each: 1\n",
      "  noise_removal: true\n",
      "  ode_solver: rk45\n",
      "  probability_flow: false\n",
      "  snr: 0.1\n",
      "  upper_norm: 1800\n",
      "  vs: false\n",
      "  z_exp: 1\n",
      "  z_max: 22\n",
      "  z_min: 0.001\n",
      "seed: 49\n",
      "training:\n",
      "  M: 268\n",
      "  accum_iter: 8\n",
      "  amp: false\n",
      "  batch_size: 128\n",
      "  continuous: true\n",
      "  eval_freq: 10000\n",
      "  gamma: 5\n",
      "  log_freq: 100\n",
      "  model: ddpmpp\n",
      "  n_iters: 200000\n",
      "  reduce_mean: true\n",
      "  restrict_M: true\n",
      "  sde: poisson\n",
      "  small_batch_size: 16\n",
      "  snapshot_freq: 10000\n",
      "  snapshot_freq_for_preemption: 500\n",
      "  snapshot_sampling: true\n",
      "  tau: 0.03\n",
      "\n"
     ]
    }
   ],
   "source": [
    "args = DotDict()\n",
    "args.conf = \"64_deep\"\n",
    "args.test = False\n",
    "args.config = get_config(args)\n",
    "args.workdir = \"64_deep\"\n",
    "args.eval_folder = \"base\""
   ]
  },
  {
   "cell_type": "code",
   "execution_count": 58,
   "metadata": {},
   "outputs": [
    {
     "ename": "AttributeError",
     "evalue": "\"'config'\"",
     "output_type": "error",
     "traceback": [
      "\u001b[0;31m---------------------------------------------------------------------------\u001b[0m",
      "\u001b[0;31mKeyError\u001b[0m                                  Traceback (most recent call last)",
      "File \u001b[0;32m~/.local/lib/python3.10/site-packages/ml_collections/config_dict/config_dict.py:883\u001b[0m, in \u001b[0;36mConfigDict.__getitem__\u001b[0;34m(self, key)\u001b[0m\n\u001b[1;32m    882\u001b[0m \u001b[38;5;28;01mtry\u001b[39;00m:\n\u001b[0;32m--> 883\u001b[0m   field \u001b[38;5;241m=\u001b[39m \u001b[38;5;28;43mself\u001b[39;49m\u001b[38;5;241;43m.\u001b[39;49m\u001b[43m_fields\u001b[49m\u001b[43m[\u001b[49m\u001b[43mkey\u001b[49m\u001b[43m]\u001b[49m\n\u001b[1;32m    884\u001b[0m   \u001b[38;5;28;01mif\u001b[39;00m \u001b[38;5;28misinstance\u001b[39m(field, FieldReference):\n",
      "\u001b[0;31mKeyError\u001b[0m: 'config'",
      "\nDuring handling of the above exception, another exception occurred:\n",
      "\u001b[0;31mKeyError\u001b[0m                                  Traceback (most recent call last)",
      "File \u001b[0;32m~/.local/lib/python3.10/site-packages/ml_collections/config_dict/config_dict.py:807\u001b[0m, in \u001b[0;36mConfigDict.__getattr__\u001b[0;34m(self, attribute)\u001b[0m\n\u001b[1;32m    806\u001b[0m \u001b[38;5;28;01mtry\u001b[39;00m:\n\u001b[0;32m--> 807\u001b[0m   \u001b[38;5;28;01mreturn\u001b[39;00m \u001b[38;5;28;43mself\u001b[39;49m\u001b[43m[\u001b[49m\u001b[43mattribute\u001b[49m\u001b[43m]\u001b[49m\n\u001b[1;32m    808\u001b[0m \u001b[38;5;28;01mexcept\u001b[39;00m \u001b[38;5;167;01mKeyError\u001b[39;00m \u001b[38;5;28;01mas\u001b[39;00m e:\n",
      "File \u001b[0;32m~/.local/lib/python3.10/site-packages/ml_collections/config_dict/config_dict.py:889\u001b[0m, in \u001b[0;36mConfigDict.__getitem__\u001b[0;34m(self, key)\u001b[0m\n\u001b[1;32m    888\u001b[0m \u001b[38;5;28;01mexcept\u001b[39;00m \u001b[38;5;167;01mKeyError\u001b[39;00m \u001b[38;5;28;01mas\u001b[39;00m e:\n\u001b[0;32m--> 889\u001b[0m   \u001b[38;5;28;01mraise\u001b[39;00m \u001b[38;5;167;01mKeyError\u001b[39;00m(\u001b[38;5;28mself\u001b[39m\u001b[38;5;241m.\u001b[39m_generate_did_you_mean_message(key, \u001b[38;5;28mstr\u001b[39m(e)))\n",
      "\u001b[0;31mKeyError\u001b[0m: \"'config'\"",
      "\nDuring handling of the above exception, another exception occurred:\n",
      "\u001b[0;31mAttributeError\u001b[0m                            Traceback (most recent call last)",
      "Input \u001b[0;32mIn [58]\u001b[0m, in \u001b[0;36m<cell line: 1>\u001b[0;34m()\u001b[0m\n\u001b[0;32m----> 1\u001b[0m \u001b[43mrun_lib\u001b[49m\u001b[38;5;241;43m.\u001b[39;49m\u001b[43mevaluate\u001b[49m\u001b[43m(\u001b[49m\u001b[43margs\u001b[49m\u001b[38;5;241;43m.\u001b[39;49m\u001b[43mconfig\u001b[49m\u001b[43m,\u001b[49m\u001b[43m \u001b[49m\u001b[43margs\u001b[49m\u001b[38;5;241;43m.\u001b[39;49m\u001b[43mworkdir\u001b[49m\u001b[43m,\u001b[49m\u001b[43m \u001b[49m\u001b[43margs\u001b[49m\u001b[38;5;241;43m.\u001b[39;49m\u001b[43meval_folder\u001b[49m\u001b[43m)\u001b[49m\n",
      "File \u001b[0;32m~/Poissound_flow/run_lib.py:220\u001b[0m, in \u001b[0;36mevaluate\u001b[0;34m(config, workdir, eval_folder)\u001b[0m\n\u001b[1;32m    217\u001b[0m inverse_scaler \u001b[38;5;241m=\u001b[39m datasets\u001b[38;5;241m.\u001b[39mget_data_inverse_scaler(config)\n\u001b[1;32m    219\u001b[0m \u001b[38;5;66;03m# Initialize model\u001b[39;00m\n\u001b[0;32m--> 220\u001b[0m net \u001b[38;5;241m=\u001b[39m \u001b[43mmutils\u001b[49m\u001b[38;5;241;43m.\u001b[39;49m\u001b[43mcreate_model\u001b[49m\u001b[43m(\u001b[49m\u001b[43mconfig\u001b[49m\u001b[43m)\u001b[49m\n\u001b[1;32m    221\u001b[0m optimizer, scheduler \u001b[38;5;241m=\u001b[39m losses\u001b[38;5;241m.\u001b[39mget_optimizer(config, net\u001b[38;5;241m.\u001b[39mparameters())\n\u001b[1;32m    222\u001b[0m ema \u001b[38;5;241m=\u001b[39m ExponentialMovingAverage(net\u001b[38;5;241m.\u001b[39mparameters(), decay\u001b[38;5;241m=\u001b[39mconfig\u001b[38;5;241m.\u001b[39mmodel\u001b[38;5;241m.\u001b[39mema_rate)\n",
      "File \u001b[0;32m~/Poissound_flow/models/utils.py:64\u001b[0m, in \u001b[0;36mcreate_model\u001b[0;34m(args)\u001b[0m\n\u001b[1;32m     62\u001b[0m \u001b[38;5;28;01mdef\u001b[39;00m \u001b[38;5;21mcreate_model\u001b[39m(args):\n\u001b[1;32m     63\u001b[0m     \u001b[38;5;124;03m\"\"\"Create the model.\"\"\"\u001b[39;00m\n\u001b[0;32m---> 64\u001b[0m     config \u001b[38;5;241m=\u001b[39m \u001b[43margs\u001b[49m\u001b[38;5;241;43m.\u001b[39;49m\u001b[43mconfig\u001b[49m\n\u001b[1;32m     65\u001b[0m     model_name \u001b[38;5;241m=\u001b[39m config\u001b[38;5;241m.\u001b[39mmodel\u001b[38;5;241m.\u001b[39mname\n\u001b[1;32m     66\u001b[0m     model \u001b[38;5;241m=\u001b[39m get_model(model_name)(config)\n",
      "File \u001b[0;32m~/.local/lib/python3.10/site-packages/ml_collections/config_dict/config_dict.py:809\u001b[0m, in \u001b[0;36mConfigDict.__getattr__\u001b[0;34m(self, attribute)\u001b[0m\n\u001b[1;32m    807\u001b[0m   \u001b[38;5;28;01mreturn\u001b[39;00m \u001b[38;5;28mself\u001b[39m[attribute]\n\u001b[1;32m    808\u001b[0m \u001b[38;5;28;01mexcept\u001b[39;00m \u001b[38;5;167;01mKeyError\u001b[39;00m \u001b[38;5;28;01mas\u001b[39;00m e:\n\u001b[0;32m--> 809\u001b[0m   \u001b[38;5;28;01mraise\u001b[39;00m \u001b[38;5;167;01mAttributeError\u001b[39;00m(e)\n",
      "\u001b[0;31mAttributeError\u001b[0m: \"'config'\""
     ]
    }
   ],
   "source": [
    "run_lib.evaluate(args, args.workdir, args.eval_folder)"
   ]
  },
  {
   "cell_type": "markdown",
   "metadata": {},
   "source": [
    "### Sampling Hyperparameter Search and Score Computation"
   ]
  },
  {
   "cell_type": "code",
   "execution_count": 44,
   "metadata": {},
   "outputs": [
    {
     "ename": "KeyError",
     "evalue": "'eval'",
     "output_type": "error",
     "traceback": [
      "\u001b[0;31m---------------------------------------------------------------------------\u001b[0m",
      "\u001b[0;31mKeyError\u001b[0m                                  Traceback (most recent call last)",
      "Input \u001b[0;32mIn [44]\u001b[0m, in \u001b[0;36m<cell line: 1>\u001b[0;34m()\u001b[0m\n\u001b[0;32m----> 1\u001b[0m \u001b[43mrun_lib\u001b[49m\u001b[38;5;241;43m.\u001b[39;49m\u001b[43mevaluate\u001b[49m\u001b[43m(\u001b[49m\u001b[43margs\u001b[49m\u001b[43m,\u001b[49m\u001b[43m \u001b[49m\u001b[43margs\u001b[49m\u001b[38;5;241;43m.\u001b[39;49m\u001b[43mworkdir\u001b[49m\u001b[43m,\u001b[49m\u001b[43m \u001b[49m\u001b[43margs\u001b[49m\u001b[38;5;241;43m.\u001b[39;49m\u001b[43meval_folder\u001b[49m\u001b[43m)\u001b[49m\n",
      "File \u001b[0;32m~/Poissound_flow/run_lib.py:212\u001b[0m, in \u001b[0;36mevaluate\u001b[0;34m(config, workdir, eval_folder)\u001b[0m\n\u001b[1;32m    208\u001b[0m os\u001b[38;5;241m.\u001b[39mmakedirs(eval_dir, exist_ok\u001b[38;5;241m=\u001b[39m\u001b[38;5;28;01mTrue\u001b[39;00m)\n\u001b[1;32m    210\u001b[0m \u001b[38;5;66;03m# Build data pipeline\u001b[39;00m\n\u001b[0;32m--> 212\u001b[0m \u001b[38;5;28;01mif\u001b[39;00m \u001b[38;5;129;01mnot\u001b[39;00m \u001b[43mconfig\u001b[49m\u001b[38;5;241;43m.\u001b[39;49m\u001b[43meval\u001b[49m\u001b[38;5;241m.\u001b[39msave_images:\n\u001b[1;32m    213\u001b[0m     train_ds, eval_ds, _ \u001b[38;5;241m=\u001b[39m datasets\u001b[38;5;241m.\u001b[39mget_dataset(config, evaluation\u001b[38;5;241m=\u001b[39m\u001b[38;5;28;01mTrue\u001b[39;00m)\n\u001b[1;32m    215\u001b[0m \u001b[38;5;66;03m# Create data normalizer and its inverse\u001b[39;00m\n",
      "Input \u001b[0;32mIn [28]\u001b[0m, in \u001b[0;36mDotDict.__getattr__\u001b[0;34m(self, key)\u001b[0m\n\u001b[1;32m      2\u001b[0m \u001b[38;5;28;01mdef\u001b[39;00m \u001b[38;5;21m__getattr__\u001b[39m(\u001b[38;5;28mself\u001b[39m, key):\n\u001b[0;32m----> 3\u001b[0m     \u001b[38;5;28;01mreturn\u001b[39;00m \u001b[38;5;28;43mself\u001b[39;49m\u001b[43m[\u001b[49m\u001b[43mkey\u001b[49m\u001b[43m]\u001b[49m\n",
      "\u001b[0;31mKeyError\u001b[0m: 'eval'"
     ]
    }
   ],
   "source": []
  },
  {
   "cell_type": "markdown",
   "metadata": {},
   "source": [
    "### Generate Samples for best Hyperparameters"
   ]
  },
  {
   "cell_type": "code",
   "execution_count": null,
   "metadata": {},
   "outputs": [],
   "source": []
  }
 ],
 "metadata": {
  "kernelspec": {
   "display_name": "Python 3 (ipykernel)",
   "language": "python",
   "name": "python3"
  },
  "language_info": {
   "codemirror_mode": {
    "name": "ipython",
    "version": 3
   },
   "file_extension": ".py",
   "mimetype": "text/x-python",
   "name": "python",
   "nbconvert_exporter": "python",
   "pygments_lexer": "ipython3",
   "version": "3.10.4"
  }
 },
 "nbformat": 4,
 "nbformat_minor": 2
}
