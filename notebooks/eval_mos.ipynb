{
 "cells": [
  {
   "cell_type": "code",
   "execution_count": 217,
   "metadata": {},
   "outputs": [],
   "source": [
    "from os import listdir\n",
    "from os.path import isfile, join\n",
    "\n",
    "import pandas as pd\n",
    "import numpy as np \n",
    "from scipy.stats import t"
   ]
  },
  {
   "cell_type": "markdown",
   "metadata": {},
   "source": [
    "### Notebook for the evaluation of the audio quality survey"
   ]
  },
  {
   "cell_type": "markdown",
   "metadata": {},
   "source": [
    "See the web application for collecting the data on the repository https://github.com/TSHP/PFGM_MOS.git."
   ]
  },
  {
   "cell_type": "code",
   "execution_count": 218,
   "metadata": {},
   "outputs": [
    {
     "name": "stderr",
     "output_type": "stream",
     "text": [
      "/var/folders/js/cmc_gtgj52l8j7qm2wtz53kc0000gn/T/ipykernel_46056/4106297164.py:9: FutureWarning: The frame.append method is deprecated and will be removed from pandas in a future version. Use pandas.concat instead.\n",
      "  df = df.append(temp_df[:120])\n",
      "/var/folders/js/cmc_gtgj52l8j7qm2wtz53kc0000gn/T/ipykernel_46056/4106297164.py:9: FutureWarning: The frame.append method is deprecated and will be removed from pandas in a future version. Use pandas.concat instead.\n",
      "  df = df.append(temp_df[:120])\n",
      "/var/folders/js/cmc_gtgj52l8j7qm2wtz53kc0000gn/T/ipykernel_46056/4106297164.py:9: FutureWarning: The frame.append method is deprecated and will be removed from pandas in a future version. Use pandas.concat instead.\n",
      "  df = df.append(temp_df[:120])\n",
      "/var/folders/js/cmc_gtgj52l8j7qm2wtz53kc0000gn/T/ipykernel_46056/4106297164.py:11: FutureWarning: The frame.append method is deprecated and will be removed from pandas in a future version. Use pandas.concat instead.\n",
      "  df = df.append(temp_df)\n",
      "/var/folders/js/cmc_gtgj52l8j7qm2wtz53kc0000gn/T/ipykernel_46056/4106297164.py:11: FutureWarning: The frame.append method is deprecated and will be removed from pandas in a future version. Use pandas.concat instead.\n",
      "  df = df.append(temp_df)\n",
      "/var/folders/js/cmc_gtgj52l8j7qm2wtz53kc0000gn/T/ipykernel_46056/4106297164.py:9: FutureWarning: The frame.append method is deprecated and will be removed from pandas in a future version. Use pandas.concat instead.\n",
      "  df = df.append(temp_df[:120])\n",
      "/var/folders/js/cmc_gtgj52l8j7qm2wtz53kc0000gn/T/ipykernel_46056/4106297164.py:9: FutureWarning: The frame.append method is deprecated and will be removed from pandas in a future version. Use pandas.concat instead.\n",
      "  df = df.append(temp_df[:120])\n",
      "/var/folders/js/cmc_gtgj52l8j7qm2wtz53kc0000gn/T/ipykernel_46056/4106297164.py:9: FutureWarning: The frame.append method is deprecated and will be removed from pandas in a future version. Use pandas.concat instead.\n",
      "  df = df.append(temp_df[:120])\n",
      "/var/folders/js/cmc_gtgj52l8j7qm2wtz53kc0000gn/T/ipykernel_46056/4106297164.py:9: FutureWarning: The frame.append method is deprecated and will be removed from pandas in a future version. Use pandas.concat instead.\n",
      "  df = df.append(temp_df[:120])\n",
      "/var/folders/js/cmc_gtgj52l8j7qm2wtz53kc0000gn/T/ipykernel_46056/4106297164.py:9: FutureWarning: The frame.append method is deprecated and will be removed from pandas in a future version. Use pandas.concat instead.\n",
      "  df = df.append(temp_df[:120])\n",
      "/var/folders/js/cmc_gtgj52l8j7qm2wtz53kc0000gn/T/ipykernel_46056/4106297164.py:9: FutureWarning: The frame.append method is deprecated and will be removed from pandas in a future version. Use pandas.concat instead.\n",
      "  df = df.append(temp_df[:120])\n",
      "/var/folders/js/cmc_gtgj52l8j7qm2wtz53kc0000gn/T/ipykernel_46056/4106297164.py:9: FutureWarning: The frame.append method is deprecated and will be removed from pandas in a future version. Use pandas.concat instead.\n",
      "  df = df.append(temp_df[:120])\n",
      "/var/folders/js/cmc_gtgj52l8j7qm2wtz53kc0000gn/T/ipykernel_46056/4106297164.py:11: FutureWarning: The frame.append method is deprecated and will be removed from pandas in a future version. Use pandas.concat instead.\n",
      "  df = df.append(temp_df)\n",
      "/var/folders/js/cmc_gtgj52l8j7qm2wtz53kc0000gn/T/ipykernel_46056/4106297164.py:9: FutureWarning: The frame.append method is deprecated and will be removed from pandas in a future version. Use pandas.concat instead.\n",
      "  df = df.append(temp_df[:120])\n",
      "/var/folders/js/cmc_gtgj52l8j7qm2wtz53kc0000gn/T/ipykernel_46056/4106297164.py:9: FutureWarning: The frame.append method is deprecated and will be removed from pandas in a future version. Use pandas.concat instead.\n",
      "  df = df.append(temp_df[:120])\n",
      "/var/folders/js/cmc_gtgj52l8j7qm2wtz53kc0000gn/T/ipykernel_46056/4106297164.py:9: FutureWarning: The frame.append method is deprecated and will be removed from pandas in a future version. Use pandas.concat instead.\n",
      "  df = df.append(temp_df[:120])\n",
      "/var/folders/js/cmc_gtgj52l8j7qm2wtz53kc0000gn/T/ipykernel_46056/4106297164.py:9: FutureWarning: The frame.append method is deprecated and will be removed from pandas in a future version. Use pandas.concat instead.\n",
      "  df = df.append(temp_df[:120])\n"
     ]
    }
   ],
   "source": [
    "\n",
    "feedbacks = [f for f in listdir(\"feedback_files\") if isfile(join(\"feedback_files\", f))]\n",
    "\n",
    "df = pd.DataFrame(columns=[\"round\", \"file\", \"score\", \"id\"])\n",
    "for feedback in feedbacks:\n",
    "    temp_df = pd.read_csv(\"feedback_files/\" + feedback)\n",
    "    temp_df[\"id\"] = [feedback.split(\".\")[0]] * len(temp_df) \n",
    "    # Only consider surveys with at least 100 answers\n",
    "    if len(temp_df) == 121:\n",
    "        df = df.append(temp_df[:120])\n",
    "    elif len(temp_df) >= 100:\n",
    "        df = df.append(temp_df)\n",
    "    if len(temp_df) < 100:\n",
    "        continue\n",
    "\n",
    "df = df.drop(labels=[\"Unnamed: 0\"], axis=1)\n",
    "df = df[df[\"score\"] != \"Unable to Assign a Score\"]\n",
    "df[\"model\"] = df[\"file\"].apply(lambda x: x.split(\"/\")[1])\n",
    "df[\"score\"] = df[\"score\"].astype(float)"
   ]
  },
  {
   "cell_type": "markdown",
   "metadata": {},
   "source": [
    "### Compute mean and 95% confidence intervals for all the models"
   ]
  },
  {
   "cell_type": "code",
   "execution_count": 230,
   "metadata": {},
   "outputs": [
    {
     "name": "stdout",
     "output_type": "stream",
     "text": [
      "model\n",
      "diffwave       3.331373\n",
      "pfgm_128       3.549020\n",
      "pfgm_128_sd    2.839216\n",
      "wavegan        1.901961\n",
      "Name: score, dtype: float64\n",
      "model\n",
      "diffwave       1.236896\n",
      "pfgm_128       1.075342\n",
      "pfgm_128_sd    1.214759\n",
      "wavegan        0.708405\n",
      "Name: score, dtype: float64\n",
      "diffwave: (-0.18727414455395644, 0.18727414455395644)\n",
      "pfgm_128: (-0.16281383750401246, 0.16281383750401246)\n",
      "pfgm_128_sd: (-0.18392250026795487, 0.18392250026795487)\n",
      "wavegan: (-0.10725712137793304, 0.10725712137793304)\n"
     ]
    }
   ],
   "source": [
    "grouped = df.groupby(['id', 'file', 'model'])\n",
    "mean_by_id_and_file = grouped[\"score\"].mean()\n",
    "\n",
    "x = len(df[\"id\"].value_counts()) * 10\n",
    "dof = x - 1 \n",
    "confidence = 0.95\n",
    "\n",
    "t_crit = np.abs(t.ppf((1 - confidence) / 2, dof))\n",
    "means = mean_by_id_and_file.groupby(\"model\").mean()\n",
    "print(means)\n",
    "stds = mean_by_id_and_file.groupby(\"model\").std()\n",
    "print(stds)\n",
    "\n",
    "for m, s, model_name in zip(means, stds, means.index):\n",
    "    print(f\"{model_name}: ({-s*t_crit/np.sqrt(x)}, {s*t_crit/np.sqrt(x)})\")"
   ]
  }
 ],
 "metadata": {
  "kernelspec": {
   "display_name": "Python 3.10.6 ('iacv')",
   "language": "python",
   "name": "python3"
  },
  "language_info": {
   "codemirror_mode": {
    "name": "ipython",
    "version": 3
   },
   "file_extension": ".py",
   "mimetype": "text/x-python",
   "name": "python",
   "nbconvert_exporter": "python",
   "pygments_lexer": "ipython3",
   "version": "3.10.6"
  },
  "orig_nbformat": 4,
  "vscode": {
   "interpreter": {
    "hash": "59cb11cf3e41286e6a21aed45f51a59b9729cbb525b32b6413a5156a600c0c92"
   }
  }
 },
 "nbformat": 4,
 "nbformat_minor": 2
}
